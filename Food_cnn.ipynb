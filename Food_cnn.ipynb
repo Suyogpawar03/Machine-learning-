{
  "cells": [
    {
      "cell_type": "markdown",
      "metadata": {
        "id": "view-in-github",
        "colab_type": "text"
      },
      "source": [
        "<a href=\"https://colab.research.google.com/github/Suyogpawar03/Machine-learning-/blob/main/Food_cnn.ipynb\" target=\"_parent\"><img src=\"https://colab.research.google.com/assets/colab-badge.svg\" alt=\"Open In Colab\"/></a>"
      ]
    },
    {
      "cell_type": "code",
      "execution_count": null,
      "metadata": {
        "id": "u0su446bydjO"
      },
      "outputs": [],
      "source": [
        "from google.colab import files\n",
        "uploaded = files.upload()"
      ]
    },
    {
      "cell_type": "code",
      "execution_count": null,
      "metadata": {
        "id": "pTxD37JIyp3-"
      },
      "outputs": [],
      "source": [
        "import pandas as pd\n",
        "import numpy as np\n",
        "import matplotlib.pyplot as plt\n",
        "import seaborn as sns\n",
        "from sklearn.preprocessing import StandardScaler\n",
        "from sklearn.preprocessing import MinMaxScaler"
      ]
    },
    {
      "cell_type": "code",
      "execution_count": null,
      "metadata": {
        "id": "GEXD9Ouryxiy"
      },
      "outputs": [],
      "source": [
        "df = pd.read_csv('Food_Delivery_Time_Prediction.csv')\n",
        "df.head()"
      ]
    },
    {
      "cell_type": "code",
      "execution_count": null,
      "metadata": {
        "id": "kr1ZB_w2zCF4"
      },
      "outputs": [],
      "source": [
        "categorical_cols = ['Weather_Conditions', 'Traffic_Conditions', 'Order_Priority', 'Vehicle_Type']\n",
        "\n",
        "\n",
        "df_encoded = pd.get_dummies(df, columns=categorical_cols, drop_first=True)\n",
        "\n"
      ]
    },
    {
      "cell_type": "code",
      "execution_count": null,
      "metadata": {
        "id": "kXVsQAt-y6tN"
      },
      "outputs": [],
      "source": [
        "time_mapping = {\n",
        "    'Afternoon': 14,\n",
        "    'Evening': 19,\n",
        "    'Night': 22\n",
        "}\n",
        "\n",
        "# Apply the mapping\n",
        "df_encoded['Order_Time_Hour'] = df['Order_Time'].map(time_mapping)"
      ]
    },
    {
      "cell_type": "code",
      "execution_count": null,
      "metadata": {
        "id": "ohy9vGpOz7_w"
      },
      "outputs": [],
      "source": [
        "num_cols = ['Distance', 'Delivery_Time', 'Order_Cost']\n",
        "\n",
        "scaler = MinMaxScaler()\n",
        "\n",
        "scaled_values = scaler.fit_transform(df_encoded[num_cols])\n",
        "scaled_df = pd.DataFrame(scaled_values, columns=num_cols, index=df.index)\n",
        "\n",
        "\n",
        "df_encoded[num_cols] = scaled_df\n",
        "\n",
        "print(\"✅ Standardization complete.\")\n",
        "df_encoded.head()"
      ]
    },
    {
      "cell_type": "code",
      "execution_count": null,
      "metadata": {
        "id": "2c_tlbTm0lzB"
      },
      "outputs": [],
      "source": [
        "from math import radians , sin ,cos , asin , sqrt\n",
        "\n",
        "def haversine(lon1, lat1, lon2 , lat2):\n",
        "\n",
        "\n",
        "    lon1,lat1, lon2 , lat2 = map(radians , [ lon1,lat1, lon2 , lat2])\n",
        "\n",
        "    dlon = lon2 - lon1\n",
        "    dlat = lat2 - lat1\n",
        "    a = sin(dlat/2)**2 + cos(lat1) * cos(lat2) * sin(dlon/2)**2\n",
        "    c = 2 * asin(sqrt(a))\n",
        "    r = 6371\n",
        "    return c * r"
      ]
    },
    {
      "cell_type": "code",
      "execution_count": null,
      "metadata": {
        "id": "rbYbBxWl0n8R"
      },
      "outputs": [],
      "source": [
        "df_encoded['Customer_Location'] = df['Customer_Location'].apply(lambda x: eval(x) if isinstance(x, str) else x)\n",
        "df_encoded['Restaurant_Location'] = df['Restaurant_Location'].apply(lambda x: eval(x) if isinstance(x, str) else x)"
      ]
    },
    {
      "cell_type": "code",
      "execution_count": null,
      "metadata": {
        "id": "GR_MwdL10qCe"
      },
      "outputs": [],
      "source": [
        "df_encoded['Customer_Lat'] = df_encoded['Customer_Location'].apply(lambda x: x[0])\n",
        "df_encoded['Customer_Lon'] = df_encoded['Customer_Location'].apply(lambda x: x[1])\n",
        "df_encoded['Restaurant_Lat'] = df_encoded['Restaurant_Location'].apply(lambda x: x[0])\n",
        "df_encoded['Restaurant_Lon'] = df_encoded['Restaurant_Location'].apply(lambda x: x[1])\n",
        "\n",
        "# Calculate distance using haversine\n",
        "df_encoded['Calculated_Distance'] = df_encoded.apply(lambda row: haversine(\n",
        "    row['Restaurant_Lon'], row['Restaurant_Lat'],\n",
        "    row['Customer_Lon'], row['Customer_Lat']), axis=1)"
      ]
    },
    {
      "cell_type": "code",
      "execution_count": null,
      "metadata": {
        "id": "MykNxaTb0rh7"
      },
      "outputs": [],
      "source": [
        "df_encoded['Distance_Diff'] = abs(df_encoded['Distance'] - df_encoded['Calculated_Distance'])\n",
        "print(df_encoded[['Distance', 'Calculated_Distance', 'Distance_Diff']])"
      ]
    },
    {
      "cell_type": "code",
      "execution_count": null,
      "metadata": {
        "id": "vEQkYvdK1DaE"
      },
      "outputs": [],
      "source": [
        "def is_rush_hour(hour):\n",
        "    return 1 if (7 <= hour <= 10) or (17 <= hour <= 20) else 0\n",
        "\n",
        "df_encoded['Rush_Hour'] = df_encoded['Order_Time_Hour'].apply(is_rush_hour)"
      ]
    },
    {
      "cell_type": "code",
      "execution_count": null,
      "metadata": {
        "id": "wxeTkwhL1Mjp"
      },
      "outputs": [],
      "source": [
        "print(df_encoded[['Order_Time', 'Order_Time_Hour', 'Rush_Hour']].head())"
      ]
    },
    {
      "cell_type": "code",
      "execution_count": null,
      "metadata": {
        "id": "CGVAauev1ZNB"
      },
      "outputs": [],
      "source": [
        "mean_time = df_encoded['Delivery_Time'].mean()\n",
        "std_time = df_encoded['Delivery_Time'].std()\n",
        "\n",
        "# Delayed = more than 1 std above mean\n",
        "threshold = mean_time + std_time\n",
        "print(f\"Threshold (mean + 1 std): {threshold:.2f} minutes\")\n",
        "\n",
        "df_encoded['Delivery_Status'] = df_encoded['Delivery_Time'].apply(lambda x: 1 if x > threshold else 0)\n",
        "print(df_encoded['Delivery_Status'].value_counts())"
      ]
    },
    {
      "cell_type": "code",
      "execution_count": null,
      "metadata": {
        "id": "62_9WIxS1o3M"
      },
      "outputs": [],
      "source": [
        "df_encoded.head()"
      ]
    },
    {
      "cell_type": "code",
      "execution_count": null,
      "metadata": {
        "id": "ck6-bC7b1xPO"
      },
      "outputs": [],
      "source": [
        "print(df_encoded.columns.tolist())"
      ]
    },
    {
      "cell_type": "code",
      "execution_count": null,
      "metadata": {
        "id": "VUtU5MGK4Ikd"
      },
      "outputs": [],
      "source": [
        "from sklearn.preprocessing import MinMaxScaler\n",
        "import numpy as np\n",
        "\n",
        "# STEP 1: Copy df_encoded\n",
        "df = df_encoded.copy()\n",
        "\n",
        "# STEP 2: Encode target\n",
        "if df['Delivery_Status'].dtype == object:\n",
        "    df['Delivery_Status'] = df['Delivery_Status'].map({'Fast': 0, 'Delayed': 1})\n",
        "\n",
        "# STEP 3: Separate features and labels\n",
        "y = df['Delivery_Status']\n",
        "X = df.drop(columns=['Delivery_Status'])\n",
        "\n",
        "# STEP 4: Drop non-numeric columns automatically\n",
        "X = X.select_dtypes(include=[np.number])\n",
        "\n",
        "# STEP 5: Normalize\n",
        "scaler = MinMaxScaler()\n",
        "X_scaled = scaler.fit_transform(X)\n",
        "\n",
        "# STEP 6: Reshape into image-friendly shape\n",
        "num_features = X_scaled.shape[1]\n",
        "side_len = int(np.ceil(np.sqrt(num_features)))\n",
        "pad_size = side_len**2 - num_features\n",
        "X_padded = np.pad(X_scaled, ((0, 0), (0, pad_size)), mode='constant')\n",
        "images = X_padded.reshape(-1, side_len, side_len, 1)\n",
        "\n",
        "print(f\"Image shape for CNN input: {images.shape}\")\n"
      ]
    },
    {
      "cell_type": "code",
      "execution_count": null,
      "metadata": {
        "id": "LzzHlpQN4qKn"
      },
      "outputs": [],
      "source": [
        "import matplotlib.pyplot as plt\n",
        "\n",
        "# Visualize a few example \"images\"\n",
        "for i in range(5):\n",
        "    plt.imshow(images[i].reshape(4, 4), cmap='gray')  # convert back to 2D\n",
        "    plt.title(f\"Sample #{i} - Label: {'Delayed' if y.iloc[i] == 1 else 'Fast'}\")\n",
        "    plt.colorbar()\n",
        "    plt.show()\n"
      ]
    },
    {
      "cell_type": "code",
      "execution_count": null,
      "metadata": {
        "id": "gP9Zk9SU4waO"
      },
      "outputs": [],
      "source": [
        "import pandas as pd\n",
        "import numpy as np\n",
        "\n",
        "# Get feature list used in the image\n",
        "feature_names = X.columns.tolist()\n",
        "\n",
        "# Pad to match the grid\n",
        "pad_size = 16 - len(feature_names)\n",
        "feature_names += ['PAD'] * pad_size  # Label padding cells\n",
        "\n",
        "# Convert to 4x4 grid\n",
        "feature_grid = np.array(feature_names).reshape(4, 4)\n",
        "print(\"Feature Grid Layout:\")\n",
        "print(pd.DataFrame(feature_grid))\n"
      ]
    },
    {
      "cell_type": "code",
      "execution_count": null,
      "metadata": {
        "id": "n0Z7rv2r48RX"
      },
      "outputs": [],
      "source": [
        "import tensorflow as tf\n",
        "from tensorflow.keras.models import Sequential\n",
        "from tensorflow.keras.layers import Conv2D, MaxPooling2D, Flatten, Dense, Dropout\n",
        "\n",
        "# CNN Model for small 4x4 input\n",
        "cnn_model = Sequential([\n",
        "    # Convolutional Layer 1\n",
        "    Conv2D(32, kernel_size=(2, 2), activation='relu', input_shape=(4, 4, 1), padding='same'),\n",
        "\n",
        "    # Convolutional Layer 2\n",
        "    Conv2D(64, kernel_size=(2, 2), activation='relu', padding='same'),\n",
        "\n",
        "    # Pooling Layer\n",
        "    MaxPooling2D(pool_size=(2, 2)),\n",
        "\n",
        "    # Dropout (to reduce overfitting)\n",
        "    Dropout(0.3),\n",
        "\n",
        "    # Flatten before Dense\n",
        "    Flatten(),\n",
        "\n",
        "    # Dense Layer\n",
        "    Dense(64, activation='relu'),\n",
        "    Dropout(0.3),\n",
        "\n",
        "    # Output Layer for binary classification\n",
        "    Dense(1, activation='sigmoid')  # \"Fast\" = 0, \"Delayed\" = 1\n",
        "])\n",
        "\n",
        "# Compile the model\n",
        "cnn_model.compile(optimizer='adam', loss='binary_crossentropy', metrics=['accuracy'])\n",
        "\n",
        "# Model Summary\n",
        "cnn_model.summary()\n"
      ]
    },
    {
      "cell_type": "code",
      "execution_count": null,
      "metadata": {
        "colab": {
          "background_save": true
        },
        "id": "eq21ldaO5BrW",
        "outputId": "f00565f9-91da-453b-b418-fac2804c863d"
      },
      "outputs": [
        {
          "name": "stdout",
          "output_type": "stream",
          "text": [
            "Epoch 1/20\n",
            "\u001b[1m10/10\u001b[0m \u001b[32m━━━━━━━━━━━━━━━━━━━━\u001b[0m\u001b[37m\u001b[0m \u001b[1m2s\u001b[0m 40ms/step - accuracy: 0.7750 - loss: nan - val_accuracy: 0.8250 - val_loss: nan\n",
            "Epoch 2/20\n",
            "\u001b[1m10/10\u001b[0m \u001b[32m━━━━━━━━━━━━━━━━━━━━\u001b[0m\u001b[37m\u001b[0m \u001b[1m0s\u001b[0m 18ms/step - accuracy: 0.7875 - loss: nan - val_accuracy: 0.8250 - val_loss: nan\n",
            "Epoch 3/20\n",
            "\u001b[1m10/10\u001b[0m \u001b[32m━━━━━━━━━━━━━━━━━━━━\u001b[0m\u001b[37m\u001b[0m \u001b[1m0s\u001b[0m 23ms/step - accuracy: 0.7875 - loss: nan - val_accuracy: 0.8250 - val_loss: nan\n",
            "Epoch 4/20\n",
            "\u001b[1m10/10\u001b[0m \u001b[32m━━━━━━━━━━━━━━━━━━━━\u001b[0m\u001b[37m\u001b[0m \u001b[1m0s\u001b[0m 13ms/step - accuracy: 0.7875 - loss: nan - val_accuracy: 0.8250 - val_loss: nan\n",
            "Epoch 5/20\n",
            "\u001b[1m10/10\u001b[0m \u001b[32m━━━━━━━━━━━━━━━━━━━━\u001b[0m\u001b[37m\u001b[0m \u001b[1m0s\u001b[0m 22ms/step - accuracy: 0.7875 - loss: nan - val_accuracy: 0.8250 - val_loss: nan\n",
            "Epoch 6/20\n",
            "\u001b[1m10/10\u001b[0m \u001b[32m━━━━━━━━━━━━━━━━━━━━\u001b[0m\u001b[37m\u001b[0m \u001b[1m0s\u001b[0m 14ms/step - accuracy: 0.7875 - loss: nan - val_accuracy: 0.8250 - val_loss: nan\n",
            "Epoch 7/20\n",
            "\u001b[1m10/10\u001b[0m \u001b[32m━━━━━━━━━━━━━━━━━━━━\u001b[0m\u001b[37m\u001b[0m \u001b[1m0s\u001b[0m 14ms/step - accuracy: 0.7875 - loss: nan - val_accuracy: 0.8250 - val_loss: nan\n",
            "Epoch 8/20\n",
            "\u001b[1m10/10\u001b[0m \u001b[32m━━━━━━━━━━━━━━━━━━━━\u001b[0m\u001b[37m\u001b[0m \u001b[1m0s\u001b[0m 12ms/step - accuracy: 0.7875 - loss: nan - val_accuracy: 0.8250 - val_loss: nan\n",
            "Epoch 9/20\n",
            "\u001b[1m10/10\u001b[0m \u001b[32m━━━━━━━━━━━━━━━━━━━━\u001b[0m\u001b[37m\u001b[0m \u001b[1m0s\u001b[0m 16ms/step - accuracy: 0.7875 - loss: nan - val_accuracy: 0.8250 - val_loss: nan\n",
            "Epoch 10/20\n",
            "\u001b[1m10/10\u001b[0m \u001b[32m━━━━━━━━━━━━━━━━━━━━\u001b[0m\u001b[37m\u001b[0m \u001b[1m0s\u001b[0m 20ms/step - accuracy: 0.7875 - loss: nan - val_accuracy: 0.8250 - val_loss: nan\n",
            "Epoch 11/20\n",
            "\u001b[1m10/10\u001b[0m \u001b[32m━━━━━━━━━━━━━━━━━━━━\u001b[0m\u001b[37m\u001b[0m \u001b[1m0s\u001b[0m 16ms/step - accuracy: 0.7875 - loss: nan - val_accuracy: 0.8250 - val_loss: nan\n",
            "Epoch 12/20\n",
            "\u001b[1m10/10\u001b[0m \u001b[32m━━━━━━━━━━━━━━━━━━━━\u001b[0m\u001b[37m\u001b[0m \u001b[1m0s\u001b[0m 16ms/step - accuracy: 0.7875 - loss: nan - val_accuracy: 0.8250 - val_loss: nan\n",
            "Epoch 13/20\n",
            "\u001b[1m10/10\u001b[0m \u001b[32m━━━━━━━━━━━━━━━━━━━━\u001b[0m\u001b[37m\u001b[0m \u001b[1m0s\u001b[0m 23ms/step - accuracy: 0.7875 - loss: nan - val_accuracy: 0.8250 - val_loss: nan\n",
            "Epoch 14/20\n",
            "\u001b[1m10/10\u001b[0m \u001b[32m━━━━━━━━━━━━━━━━━━━━\u001b[0m\u001b[37m\u001b[0m \u001b[1m0s\u001b[0m 17ms/step - accuracy: 0.7875 - loss: nan - val_accuracy: 0.8250 - val_loss: nan\n",
            "Epoch 15/20\n",
            "\u001b[1m10/10\u001b[0m \u001b[32m━━━━━━━━━━━━━━━━━━━━\u001b[0m\u001b[37m\u001b[0m \u001b[1m0s\u001b[0m 15ms/step - accuracy: 0.7875 - loss: nan - val_accuracy: 0.8250 - val_loss: nan\n",
            "Epoch 16/20\n",
            "\u001b[1m10/10\u001b[0m \u001b[32m━━━━━━━━━━━━━━━━━━━━\u001b[0m\u001b[37m\u001b[0m \u001b[1m0s\u001b[0m 13ms/step - accuracy: 0.7875 - loss: nan - val_accuracy: 0.8250 - val_loss: nan\n",
            "Epoch 17/20\n",
            "\u001b[1m10/10\u001b[0m \u001b[32m━━━━━━━━━━━━━━━━━━━━\u001b[0m\u001b[37m\u001b[0m \u001b[1m0s\u001b[0m 22ms/step - accuracy: 0.7875 - loss: nan - val_accuracy: 0.8250 - val_loss: nan\n",
            "Epoch 18/20\n",
            "\u001b[1m10/10\u001b[0m \u001b[32m━━━━━━━━━━━━━━━━━━━━\u001b[0m\u001b[37m\u001b[0m \u001b[1m0s\u001b[0m 11ms/step - accuracy: 0.7875 - loss: nan - val_accuracy: 0.8250 - val_loss: nan\n",
            "Epoch 19/20\n",
            "\u001b[1m10/10\u001b[0m \u001b[32m━━━━━━━━━━━━━━━━━━━━\u001b[0m\u001b[37m\u001b[0m \u001b[1m0s\u001b[0m 30ms/step - accuracy: 0.7875 - loss: nan - val_accuracy: 0.8250 - val_loss: nan\n",
            "Epoch 20/20\n",
            "\u001b[1m10/10\u001b[0m \u001b[32m━━━━━━━━━━━━━━━━━━━━\u001b[0m\u001b[37m\u001b[0m \u001b[1m1s\u001b[0m 26ms/step - accuracy: 0.7875 - loss: nan - val_accuracy: 0.8250 - val_loss: nan\n"
          ]
        }
      ],
      "source": [
        "# Train/Test Split (if not already done)\n",
        "from sklearn.model_selection import train_test_split\n",
        "X_train, X_test, y_train, y_test = train_test_split(images, y, test_size=0.2, random_state=42)\n",
        "\n",
        "# Fit the model\n",
        "history = cnn_model.fit(X_train, y_train, epochs=20, batch_size=16, validation_data=(X_test, y_test))\n"
      ]
    },
    {
      "cell_type": "code",
      "execution_count": null,
      "metadata": {
        "colab": {
          "background_save": true
        },
        "id": "C_XxtX435GJm",
        "outputId": "32ef02a2-cb26-4736-c4ef-695a7a171ed5"
      },
      "outputs": [
        {
          "name": "stdout",
          "output_type": "stream",
          "text": [
            "\u001b[1m2/2\u001b[0m \u001b[32m━━━━━━━━━━━━━━━━━━━━\u001b[0m\u001b[37m\u001b[0m \u001b[1m0s\u001b[0m 70ms/step - accuracy: 0.8250 - loss: nan\n",
            "Test Accuracy: 0.82\n"
          ]
        },
        {
          "data": {
            "image/png": "[encoded data removed]",
            "text/plain": [
              "<Figure size 640x480 with 1 Axes>"
            ]
          },
          "metadata": {},
          "output_type": "display_data"
        }
      ],
      "source": [
        "# Evaluate\n",
        "loss, acc =cnn_model.evaluate(X_test, y_test)\n",
        "print(f\"Test Accuracy: {acc:.2f}\")\n",
        "\n",
        "# Optional: Plot Accuracy and Loss over epochs\n",
        "import matplotlib.pyplot as plt\n",
        "\n",
        "plt.plot(history.history['accuracy'], label='Train Acc')\n",
        "plt.plot(history.history['val_accuracy'], label='Val Acc')\n",
        "plt.title('CNN Accuracy')\n",
        "plt.xlabel('Epoch')\n",
        "plt.ylabel('Accuracy')\n",
        "plt.legend()\n",
        "plt.show()\n"
      ]
    },
    {
      "cell_type": "code",
      "execution_count": null,
      "metadata": {
        "colab": {
          "background_save": true
        },
        "id": "wDAXLpSQ5Oau",
        "outputId": "3c1bdf43-74ab-470b-dbcb-5f06cd77d8e7"
      },
      "outputs": [
        {
          "name": "stdout",
          "output_type": "stream",
          "text": [
            "\u001b[1m2/2\u001b[0m \u001b[32m━━━━━━━━━━━━━━━━━━━━\u001b[0m\u001b[37m\u001b[0m \u001b[1m0s\u001b[0m 86ms/step\n"
          ]
        }
      ],
      "source": [
        "# Predict probabilities and convert to binary labels\n",
        "X_test_clean = np.nan_to_num(X_test, nan=0.0, posinf=0.0, neginf=0.0)\n",
        "\n",
        "y_pred_probs = cnn_model.predict(X_test_clean).flatten()\n",
        "y_pred = (y_pred_probs > 0.5).astype(int).flatten()\n"
      ]
    },
    {
      "cell_type": "code",
      "execution_count": null,
      "metadata": {
        "colab": {
          "background_save": true
        },
        "id": "dmFb2Tq75PvK",
        "outputId": "ae7b64b4-6dc7-45ec-ae94-57222201e3e9"
      },
      "outputs": [
        {
          "name": "stdout",
          "output_type": "stream",
          "text": [
            "Accuracy : 0.82\n",
            "Precision: 0.00\n",
            "Recall   : 0.00\n",
            "F1-score : 0.00\n"
          ]
        },
        {
          "name": "stderr",
          "output_type": "stream",
          "text": [
            "/usr/local/lib/python3.11/dist-packages/sklearn/metrics/_classification.py:1565: UndefinedMetricWarning: Precision is ill-defined and being set to 0.0 due to no predicted samples. Use `zero_division` parameter to control this behavior.\n",
            "  _warn_prf(average, modifier, f\"{metric.capitalize()} is\", len(result))\n"
          ]
        }
      ],
      "source": [
        "from sklearn.metrics import accuracy_score, precision_score, recall_score, f1_score, classification_report, confusion_matrix\n",
        "import seaborn as sns\n",
        "import matplotlib.pyplot as plt\n",
        "\n",
        "# Print all metrics\n",
        "acc = accuracy_score(y_test, y_pred)\n",
        "prec = precision_score(y_test, y_pred)\n",
        "rec = recall_score(y_test, y_pred)\n",
        "f1 = f1_score(y_test, y_pred)\n",
        "\n",
        "print(f\"Accuracy : {acc:.2f}\")\n",
        "print(f\"Precision: {prec:.2f}\")\n",
        "print(f\"Recall   : {rec:.2f}\")\n",
        "print(f\"F1-score : {f1:.2f}\")\n"
      ]
    },
    {
      "cell_type": "code",
      "execution_count": null,
      "metadata": {
        "colab": {
          "background_save": true
        },
        "id": "OrfPr5Fc5UDK",
        "outputId": "3c4f5e61-8652-4e43-d498-360b36f0bb24"
      },
      "outputs": [
        {
          "name": "stdout",
          "output_type": "stream",
          "text": [
            "\n",
            "Classification Report:\n",
            "              precision    recall  f1-score   support\n",
            "\n",
            "        Fast       0.82      1.00      0.90        33\n",
            "     Delayed       0.00      0.00      0.00         7\n",
            "\n",
            "    accuracy                           0.82        40\n",
            "   macro avg       0.41      0.50      0.45        40\n",
            "weighted avg       0.68      0.82      0.75        40\n",
            "\n"
          ]
        },
        {
          "name": "stderr",
          "output_type": "stream",
          "text": [
            "/usr/local/lib/python3.11/dist-packages/sklearn/metrics/_classification.py:1565: UndefinedMetricWarning: Precision is ill-defined and being set to 0.0 in labels with no predicted samples. Use `zero_division` parameter to control this behavior.\n",
            "  _warn_prf(average, modifier, f\"{metric.capitalize()} is\", len(result))\n",
            "/usr/local/lib/python3.11/dist-packages/sklearn/metrics/_classification.py:1565: UndefinedMetricWarning: Precision is ill-defined and being set to 0.0 in labels with no predicted samples. Use `zero_division` parameter to control this behavior.\n",
            "  _warn_prf(average, modifier, f\"{metric.capitalize()} is\", len(result))\n",
            "/usr/local/lib/python3.11/dist-packages/sklearn/metrics/_classification.py:1565: UndefinedMetricWarning: Precision is ill-defined and being set to 0.0 in labels with no predicted samples. Use `zero_division` parameter to control this behavior.\n",
            "  _warn_prf(average, modifier, f\"{metric.capitalize()} is\", len(result))\n"
          ]
        }
      ],
      "source": [
        "print(\"\\nClassification Report:\")\n",
        "print(classification_report(y_test, y_pred, target_names=[\"Fast\", \"Delayed\"]))\n"
      ]
    },
    {
      "cell_type": "code",
      "execution_count": null,
      "metadata": {
        "colab": {
          "background_save": true
        },
        "id": "d3JF8lik5Y2C",
        "outputId": "7241fef4-ae2c-4eef-940b-6759be44f82c"
      },
      "outputs": [
        {
          "data": {
            "image/png": "[encoded data removed]",
            "text/plain": [
              "<Figure size 640x480 with 2 Axes>"
            ]
          },
          "metadata": {},
          "output_type": "display_data"
        }
      ],
      "source": [
        "conf_mat = confusion_matrix(y_test, y_pred)\n",
        "\n",
        "# Plot\n",
        "sns.heatmap(conf_mat, annot=True, fmt='d', cmap='Blues',\n",
        "            xticklabels=[\"Pred: Fast\", \"Pred: Delayed\"],\n",
        "            yticklabels=[\"Actual: Fast\", \"Actual: Delayed\"])\n",
        "plt.title(\"Confusion Matrix\")\n",
        "plt.xlabel(\"Predicted\")\n",
        "plt.ylabel(\"Actual\")\n",
        "plt.show()\n"
      ]
    },
    {
      "cell_type": "code",
      "execution_count": null,
      "metadata": {
        "colab": {
          "background_save": true
        },
        "id": "GEO0Rbn65cGf",
        "outputId": "669393ee-0762-4a00-edc6-4a2dc058f637"
      },
      "outputs": [
        {
          "name": "stdout",
          "output_type": "stream",
          "text": [
            "Epoch 1/25\n"
          ]
        },
        {
          "name": "stderr",
          "output_type": "stream",
          "text": [
            "/usr/local/lib/python3.11/dist-packages/keras/src/layers/convolutional/base_conv.py:113: UserWarning: Do not pass an `input_shape`/`input_dim` argument to a layer. When using Sequential models, prefer using an `Input(shape)` object as the first layer in the model instead.\n",
            "  super().__init__(activity_regularizer=activity_regularizer, **kwargs)\n"
          ]
        },
        {
          "name": "stdout",
          "output_type": "stream",
          "text": [
            "\u001b[1m10/10\u001b[0m \u001b[32m━━━━━━━━━━━━━━━━━━━━\u001b[0m\u001b[37m\u001b[0m \u001b[1m2s\u001b[0m 38ms/step - accuracy: 0.7625 - loss: nan - val_accuracy: 0.8250 - val_loss: nan\n",
            "Epoch 2/25\n",
            "\u001b[1m10/10\u001b[0m \u001b[32m━━━━━━━━━━━━━━━━━━━━\u001b[0m\u001b[37m\u001b[0m \u001b[1m1s\u001b[0m 26ms/step - accuracy: 0.7875 - loss: nan - val_accuracy: 0.8250 - val_loss: nan\n",
            "Epoch 3/25\n",
            "\u001b[1m10/10\u001b[0m \u001b[32m━━━━━━━━━━━━━━━━━━━━\u001b[0m\u001b[37m\u001b[0m \u001b[1m1s\u001b[0m 16ms/step - accuracy: 0.7875 - loss: nan - val_accuracy: 0.8250 - val_loss: nan\n",
            "Epoch 4/25\n",
            "\u001b[1m10/10\u001b[0m \u001b[32m━━━━━━━━━━━━━━━━━━━━\u001b[0m\u001b[37m\u001b[0m \u001b[1m0s\u001b[0m 26ms/step - accuracy: 0.7875 - loss: nan - val_accuracy: 0.8250 - val_loss: nan\n",
            "Epoch 5/25\n",
            "\u001b[1m10/10\u001b[0m \u001b[32m━━━━━━━━━━━━━━━━━━━━\u001b[0m\u001b[37m\u001b[0m \u001b[1m0s\u001b[0m 15ms/step - accuracy: 0.7875 - loss: nan - val_accuracy: 0.8250 - val_loss: nan\n",
            "Epoch 6/25\n",
            "\u001b[1m10/10\u001b[0m \u001b[32m━━━━━━━━━━━━━━━━━━━━\u001b[0m\u001b[37m\u001b[0m \u001b[1m0s\u001b[0m 16ms/step - accuracy: 0.7875 - loss: nan - val_accuracy: 0.8250 - val_loss: nan\n",
            "Epoch 7/25\n",
            "\u001b[1m10/10\u001b[0m \u001b[32m━━━━━━━━━━━━━━━━━━━━\u001b[0m\u001b[37m\u001b[0m \u001b[1m0s\u001b[0m 12ms/step - accuracy: 0.7875 - loss: nan - val_accuracy: 0.8250 - val_loss: nan\n",
            "Epoch 8/25\n",
            "\u001b[1m10/10\u001b[0m \u001b[32m━━━━━━━━━━━━━━━━━━━━\u001b[0m\u001b[37m\u001b[0m \u001b[1m0s\u001b[0m 12ms/step - accuracy: 0.7875 - loss: nan - val_accuracy: 0.8250 - val_loss: nan\n",
            "Epoch 9/25\n",
            "\u001b[1m10/10\u001b[0m \u001b[32m━━━━━━━━━━━━━━━━━━━━\u001b[0m\u001b[37m\u001b[0m \u001b[1m0s\u001b[0m 12ms/step - accuracy: 0.7875 - loss: nan - val_accuracy: 0.8250 - val_loss: nan\n",
            "Epoch 10/25\n",
            "\u001b[1m10/10\u001b[0m \u001b[32m━━━━━━━━━━━━━━━━━━━━\u001b[0m\u001b[37m\u001b[0m \u001b[1m0s\u001b[0m 12ms/step - accuracy: 0.7875 - loss: nan - val_accuracy: 0.8250 - val_loss: nan\n",
            "Epoch 11/25\n",
            "\u001b[1m10/10\u001b[0m \u001b[32m━━━━━━━━━━━━━━━━━━━━\u001b[0m\u001b[37m\u001b[0m \u001b[1m0s\u001b[0m 19ms/step - accuracy: 0.7875 - loss: nan - val_accuracy: 0.8250 - val_loss: nan\n",
            "Epoch 12/25\n",
            "\u001b[1m10/10\u001b[0m \u001b[32m━━━━━━━━━━━━━━━━━━━━\u001b[0m\u001b[37m\u001b[0m \u001b[1m0s\u001b[0m 8ms/step - accuracy: 0.7875 - loss: nan - val_accuracy: 0.8250 - val_loss: nan\n",
            "Epoch 13/25\n",
            "\u001b[1m10/10\u001b[0m \u001b[32m━━━━━━━━━━━━━━━━━━━━\u001b[0m\u001b[37m\u001b[0m \u001b[1m0s\u001b[0m 9ms/step - accuracy: 0.7875 - loss: nan - val_accuracy: 0.8250 - val_loss: nan\n",
            "Epoch 14/25\n",
            "\u001b[1m10/10\u001b[0m \u001b[32m━━━━━━━━━━━━━━━━━━━━\u001b[0m\u001b[37m\u001b[0m \u001b[1m0s\u001b[0m 8ms/step - accuracy: 0.7875 - loss: nan - val_accuracy: 0.8250 - val_loss: nan\n",
            "Epoch 15/25\n",
            "\u001b[1m10/10\u001b[0m \u001b[32m━━━━━━━━━━━━━━━━━━━━\u001b[0m\u001b[37m\u001b[0m \u001b[1m0s\u001b[0m 9ms/step - accuracy: 0.7875 - loss: nan - val_accuracy: 0.8250 - val_loss: nan\n",
            "Epoch 16/25\n",
            "\u001b[1m10/10\u001b[0m \u001b[32m━━━━━━━━━━━━━━━━━━━━\u001b[0m\u001b[37m\u001b[0m \u001b[1m0s\u001b[0m 8ms/step - accuracy: 0.7875 - loss: nan - val_accuracy: 0.8250 - val_loss: nan\n",
            "Epoch 17/25\n",
            "\u001b[1m10/10\u001b[0m \u001b[32m━━━━━━━━━━━━━━━━━━━━\u001b[0m\u001b[37m\u001b[0m \u001b[1m0s\u001b[0m 8ms/step - accuracy: 0.7875 - loss: nan - val_accuracy: 0.8250 - val_loss: nan\n",
            "Epoch 18/25\n",
            "\u001b[1m10/10\u001b[0m \u001b[32m━━━━━━━━━━━━━━━━━━━━\u001b[0m\u001b[37m\u001b[0m \u001b[1m0s\u001b[0m 8ms/step - accuracy: 0.7875 - loss: nan - val_accuracy: 0.8250 - val_loss: nan\n",
            "Epoch 19/25\n",
            "\u001b[1m10/10\u001b[0m \u001b[32m━━━━━━━━━━━━━━━━━━━━\u001b[0m\u001b[37m\u001b[0m \u001b[1m0s\u001b[0m 9ms/step - accuracy: 0.7875 - loss: nan - val_accuracy: 0.8250 - val_loss: nan\n",
            "Epoch 20/25\n",
            "\u001b[1m10/10\u001b[0m \u001b[32m━━━━━━━━━━━━━━━━━━━━\u001b[0m\u001b[37m\u001b[0m \u001b[1m0s\u001b[0m 7ms/step - accuracy: 0.7875 - loss: nan - val_accuracy: 0.8250 - val_loss: nan\n",
            "Epoch 21/25\n",
            "\u001b[1m10/10\u001b[0m \u001b[32m━━━━━━━━━━━━━━━━━━━━\u001b[0m\u001b[37m\u001b[0m \u001b[1m0s\u001b[0m 8ms/step - accuracy: 0.7875 - loss: nan - val_accuracy: 0.8250 - val_loss: nan\n",
            "Epoch 22/25\n",
            "\u001b[1m10/10\u001b[0m \u001b[32m━━━━━━━━━━━━━━━━━━━━\u001b[0m\u001b[37m\u001b[0m \u001b[1m0s\u001b[0m 8ms/step - accuracy: 0.7875 - loss: nan - val_accuracy: 0.8250 - val_loss: nan\n",
            "Epoch 23/25\n",
            "\u001b[1m10/10\u001b[0m \u001b[32m━━━━━━━━━━━━━━━━━━━━\u001b[0m\u001b[37m\u001b[0m \u001b[1m0s\u001b[0m 9ms/step - accuracy: 0.7875 - loss: nan - val_accuracy: 0.8250 - val_loss: nan\n",
            "Epoch 24/25\n",
            "\u001b[1m10/10\u001b[0m \u001b[32m━━━━━━━━━━━━━━━━━━━━\u001b[0m\u001b[37m\u001b[0m \u001b[1m0s\u001b[0m 8ms/step - accuracy: 0.7875 - loss: nan - val_accuracy: 0.8250 - val_loss: nan\n",
            "Epoch 25/25\n",
            "\u001b[1m10/10\u001b[0m \u001b[32m━━━━━━━━━━━━━━━━━━━━\u001b[0m\u001b[37m\u001b[0m \u001b[1m0s\u001b[0m 9ms/step - accuracy: 0.7875 - loss: nan - val_accuracy: 0.8250 - val_loss: nan\n"
          ]
        }
      ],
      "source": [
        "from tensorflow.keras.optimizers import Adam\n",
        "\n",
        "# Adjust learning rate\n",
        "optimizer = Adam(learning_rate=0.0005)\n",
        "\n",
        "model = Sequential([\n",
        "    Conv2D(64, kernel_size=(2, 2), activation='relu', input_shape=(4, 4, 1), padding='same'),\n",
        "    Conv2D(128, kernel_size=(2, 2), activation='relu', padding='same'),\n",
        "    MaxPooling2D(pool_size=(2, 2)),\n",
        "    Dropout(0.4),  # slightly higher dropout\n",
        "    Flatten(),\n",
        "    Dense(128, activation='relu'),\n",
        "    Dropout(0.4),\n",
        "    Dense(1, activation='sigmoid')\n",
        "])\n",
        "\n",
        "model.compile(optimizer=optimizer, loss='binary_crossentropy', metrics=['accuracy'])\n",
        "\n",
        "# Train the tuned model\n",
        "history = model.fit(X_train, y_train, validation_data=(X_test, y_test), epochs=25, batch_size=16)\n"
      ]
    },
    {
      "cell_type": "code",
      "execution_count": null,
      "metadata": {
        "colab": {
          "background_save": true
        },
        "id": "9IoExqCs6oZf",
        "outputId": "6b3c1e7f-7dae-4139-df0c-bd761b5bab73"
      },
      "outputs": [
        {
          "name": "stdout",
          "output_type": "stream",
          "text": [
            "Rows with missing Delivery_Status: 0\n",
            "Total rows in df_encoded: 200\n",
            "Shape of numeric features: (200, 16)\n",
            "Rows with all numeric features missing: 0\n"
          ]
        }
      ],
      "source": [
        "print(\"Rows with missing Delivery_Status:\", df_encoded['Delivery_Status'].isna().sum())\n",
        "print(\"Total rows in df_encoded:\", len(df_encoded))\n",
        "\n",
        "# Select only numeric features\n",
        "df_numeric = df_encoded.select_dtypes(include=[np.number])\n",
        "print(\"Shape of numeric features:\", df_numeric.shape)\n",
        "\n",
        "# Check how many rows have *all* features missing\n",
        "print(\"Rows with all numeric features missing:\", df_numeric.isna().all(axis=1).sum())\n"
      ]
    },
    {
      "cell_type": "code",
      "execution_count": null,
      "metadata": {
        "colab": {
          "background_save": true
        },
        "id": "0DX_pra061cP",
        "outputId": "a6d47d78-60b9-4492-8646-3acc70c25f1d"
      },
      "outputs": [
        {
          "name": "stdout",
          "output_type": "stream",
          "text": [
            "=== Logistic Regression Metrics ===\n",
            "              precision    recall  f1-score   support\n",
            "\n",
            "        Fast       0.94      1.00      0.97        33\n",
            "     Delayed       1.00      0.71      0.83         7\n",
            "\n",
            "    accuracy                           0.95        40\n",
            "   macro avg       0.97      0.86      0.90        40\n",
            "weighted avg       0.95      0.95      0.95        40\n",
            "\n"
          ]
        }
      ],
      "source": [
        "# Separate features and target\n",
        "X = df_encoded.drop(columns=['Delivery_Status']).select_dtypes(include=[np.number])\n",
        "y = df_encoded['Delivery_Status']\n",
        "\n",
        "# Drop rows with all NaNs in X\n",
        "X = X.dropna(how='all')\n",
        "y = y.loc[X.index]\n",
        "\n",
        "# Impute\n",
        "from sklearn.impute import SimpleImputer\n",
        "X_imputed = SimpleImputer(strategy='mean').fit_transform(X)\n",
        "\n",
        "# Scale\n",
        "from sklearn.preprocessing import MinMaxScaler\n",
        "X_scaled = MinMaxScaler().fit_transform(X_imputed)\n",
        "\n",
        "# Train/test split\n",
        "from sklearn.model_selection import train_test_split\n",
        "X_train_lr, X_test_lr, y_train_lr, y_test_lr = train_test_split(X_scaled, y, test_size=0.2, random_state=42)\n",
        "\n",
        "# Logistic Regression\n",
        "from sklearn.linear_model import LogisticRegression\n",
        "from sklearn.metrics import classification_report\n",
        "\n",
        "lr_model = LogisticRegression(max_iter=1000)\n",
        "lr_model.fit(X_train_lr, y_train_lr)\n",
        "y_pred_lr = lr_model.predict(X_test_lr)\n",
        "\n",
        "# Evaluation\n",
        "print(\"=== Logistic Regression Metrics ===\")\n",
        "print(classification_report(y_test_lr, y_pred_lr, target_names=[\"Fast\", \"Delayed\"]))\n"
      ]
    },
    {
      "cell_type": "code",
      "execution_count": null,
      "metadata": {
        "colab": {
          "background_save": true
        },
        "id": "7jZRuxfJ-NRW",
        "outputId": "5f694f98-0241-46c9-bc11-0388290baada"
      },
      "outputs": [
        {
          "name": "stdout",
          "output_type": "stream",
          "text": [
            "=== 5-Fold Cross-Validation ===\n",
            "Fold Accuracies: [0.825 0.85  0.825 0.85  0.875]\n",
            "Mean Accuracy  : 0.845\n",
            "Std Deviation  : 0.018708286933869726\n"
          ]
        }
      ],
      "source": [
        "from sklearn.impute import SimpleImputer\n",
        "from sklearn.preprocessing import MinMaxScaler\n",
        "from sklearn.linear_model import LogisticRegression\n",
        "from sklearn.model_selection import cross_val_score, StratifiedKFold\n",
        "from sklearn.pipeline import Pipeline\n",
        "import numpy as np\n",
        "\n",
        "# Step 1: Extract features and target\n",
        "X = df_encoded.drop(columns=['Delivery_Status']).select_dtypes(include=[np.number, np.bool_])\n",
        "y = df_encoded['Delivery_Status']\n",
        "\n",
        "# Step 2: Drop rows where all features are NaN and align target\n",
        "X = X.dropna(how='all')\n",
        "y = y.loc[X.index]\n",
        "\n",
        "# Step 3: Build pipeline: Imputation → Scaling → Model\n",
        "pipeline = Pipeline([\n",
        "    ('imputer', SimpleImputer(strategy='mean')),\n",
        "    ('scaler', MinMaxScaler()),\n",
        "    ('model', LogisticRegression(max_iter=1000))\n",
        "])\n",
        "\n",
        "# Step 4: 5-Fold Stratified CV\n",
        "cv = StratifiedKFold(n_splits=5, shuffle=True, random_state=42)\n",
        "scores = cross_val_score(pipeline, X, y, cv=cv, scoring='accuracy')\n",
        "\n",
        "# Step 5: Results\n",
        "print(\"=== 5-Fold Cross-Validation ===\")\n",
        "print(\"Fold Accuracies:\", scores)\n",
        "print(\"Mean Accuracy  :\", scores.mean())\n",
        "print(\"Std Deviation  :\", scores.std())\n"
      ]
    },
    {
      "cell_type": "code",
      "execution_count": null,
      "metadata": {
        "colab": {
          "background_save": true
        },
        "id": "XAX3HSVQ-hnW",
        "outputId": "7356d1db-a98b-4ce1-c17f-96fdc152279a"
      },
      "outputs": [
        {
          "data": {
            "image/png": "[encoded data removed]",
            "text/plain": [
              "<Figure size 640x480 with 1 Axes>"
            ]
          },
          "metadata": {},
          "output_type": "display_data"
        }
      ],
      "source": [
        "import matplotlib.pyplot as plt\n",
        "\n",
        "folds = [1, 2, 3, 4, 5]\n",
        "accuracies = [0.825, 0.85, 0.825, 0.85, 0.875]\n",
        "\n",
        "plt.plot(folds, accuracies, marker='o', linestyle='--', color='navy')\n",
        "plt.title(\"5-Fold Cross-Validation Accuracy (Logistic Regression)\")\n",
        "plt.xlabel(\"Fold\")\n",
        "plt.ylabel(\"Accuracy\")\n",
        "plt.ylim(0.7, 0.9)\n",
        "plt.grid(True)\n",
        "plt.show()\n"
      ]
    },
    {
      "cell_type": "code",
      "execution_count": null,
      "metadata": {
        "colab": {
          "background_save": true
        },
        "id": "xx-zOHNq-hid",
        "outputId": "171e23e5-2250-4d22-fbdc-90210e98df5f"
      },
      "outputs": [
        {
          "name": "stdout",
          "output_type": "stream",
          "text": [
            "Fold 1 Accuracy: 0.825\n",
            "Fold 2 Accuracy: 0.850\n",
            "Fold 3 Accuracy: 0.825\n",
            "Fold 4 Accuracy: 0.850\n",
            "Fold 5 Accuracy: 0.875\n",
            "\n",
            "=== Manual Cross-Validation Summary ===\n",
            "Fold Accuracies: [0.825 0.85  0.825 0.85  0.875]\n",
            "Mean Accuracy  : 0.845\n",
            "Std Deviation  : 0.018708286933869726\n"
          ]
        }
      ],
      "source": [
        "from sklearn.impute import SimpleImputer\n",
        "from sklearn.preprocessing import MinMaxScaler\n",
        "from sklearn.linear_model import LogisticRegression\n",
        "from sklearn.metrics import accuracy_score\n",
        "from sklearn.model_selection import StratifiedKFold\n",
        "import numpy as np\n",
        "\n",
        "# Step 1: Prepare data\n",
        "X = df_encoded.drop(columns=['Delivery_Status']).select_dtypes(include=[np.number, np.bool_])\n",
        "y = df_encoded['Delivery_Status']\n",
        "\n",
        "# Drop rows with all NaNs\n",
        "X = X.dropna(how='all')\n",
        "y = y.loc[X.index]\n",
        "\n",
        "# Step 2: Prepare scaler and imputer\n",
        "imputer = SimpleImputer(strategy='mean')\n",
        "scaler = MinMaxScaler()\n",
        "\n",
        "# Step 3: Manual CV\n",
        "cv = StratifiedKFold(n_splits=5, shuffle=True, random_state=42)\n",
        "fold_accuracies = []\n",
        "\n",
        "for fold, (train_idx, val_idx) in enumerate(cv.split(X, y), start=1):\n",
        "    # Split the data\n",
        "    X_train, X_val = X.iloc[train_idx], X.iloc[val_idx]\n",
        "    y_train, y_val = y.iloc[train_idx], y.iloc[val_idx]\n",
        "\n",
        "    # Impute and scale\n",
        "    X_train_imputed = imputer.fit_transform(X_train)\n",
        "    X_val_imputed = imputer.transform(X_val)\n",
        "\n",
        "    X_train_scaled = scaler.fit_transform(X_train_imputed)\n",
        "    X_val_scaled = scaler.transform(X_val_imputed)\n",
        "\n",
        "    # Train model\n",
        "    model = LogisticRegression(max_iter=1000)\n",
        "    model.fit(X_train_scaled, y_train)\n",
        "\n",
        "    # Predict and evaluate\n",
        "    y_pred = model.predict(X_val_scaled)\n",
        "    acc = accuracy_score(y_val, y_pred)\n",
        "    fold_accuracies.append(acc)\n",
        "\n",
        "    print(f\"Fold {fold} Accuracy: {acc:.3f}\")\n",
        "\n",
        "# Summary\n",
        "print(\"\\n=== Manual Cross-Validation Summary ===\")\n",
        "print(\"Fold Accuracies:\", np.round(fold_accuracies, 3))\n",
        "print(\"Mean Accuracy  :\", np.mean(fold_accuracies))\n",
        "print(\"Std Deviation  :\", np.std(fold_accuracies))\n"
      ]
    },
    {
      "cell_type": "code",
      "execution_count": null,
      "metadata": {
        "colab": {
          "background_save": true
        },
        "id": "ENUp1T6JayuO",
        "outputId": "12baed97-4c46-4cbd-ee23-979f992e3000"
      },
      "outputs": [
        {
          "name": "stdout",
          "output_type": "stream",
          "text": [
            "\u001b[1m2/2\u001b[0m \u001b[32m━━━━━━━━━━━━━━━━━━━━\u001b[0m\u001b[37m\u001b[0m \u001b[1m0s\u001b[0m 17ms/step\n",
            "Any NaNs in prediction? True\n",
            "Sample predictions: [nan nan nan nan nan]\n"
          ]
        }
      ],
      "source": [
        "import numpy as np\n",
        "\n",
        "# Replace NaNs with 0.0 or any neutral value\n",
        "X_test_clean = np.nan_to_num(X_test, nan=0.0, posinf=0.0, neginf=0.0)\n",
        "\n",
        "# Re-predict\n",
        "y_probs_cnn = cnn_model.predict(X_test_clean).flatten()\n",
        "\n",
        "# Check result\n",
        "print(\"Any NaNs in prediction?\", np.isnan(y_probs_cnn).any())\n",
        "print(\"Sample predictions:\", y_probs_cnn[:5])\n"
      ]
    },
    {
      "cell_type": "code",
      "execution_count": null,
      "metadata": {
        "colab": {
          "background_save": true
        },
        "id": "-kt85JI3btso",
        "outputId": "20598beb-7f7e-4238-b9d5-2f05ce40f367"
      },
      "outputs": [
        {
          "name": "stdout",
          "output_type": "stream",
          "text": [
            "Labels kept for ROC: (array([], dtype=int64), array([], dtype=int64))\n"
          ]
        }
      ],
      "source": [
        "mask = ~np.isnan(y_probs_cnn)\n",
        "y_test_clean = np.array(y_test).flatten()[mask]\n",
        "print(\"Labels kept for ROC:\", np.unique(y_test_clean, return_counts=True))\n"
      ]
    },
    {
      "cell_type": "code",
      "execution_count": null,
      "metadata": {
        "colab": {
          "background_save": true
        },
        "id": "9ESHq02pb6Rm",
        "outputId": "c483639c-5c46-4281-e95b-79cc62d2fa91"
      },
      "outputs": [
        {
          "name": "stdout",
          "output_type": "stream",
          "text": [
            "images shape: (200, 4, 4, 1)\n",
            "Any NaNs?: True\n",
            "Min/Max pixel: 0.0 1.0000000000000002\n"
          ]
        }
      ],
      "source": [
        "print(\"images shape:\", images.shape)\n",
        "print(\"Any NaNs?:\", np.isnan(images).any())\n",
        "print(\"Min/Max pixel:\", np.nanmin(images), np.nanmax(images))\n"
      ]
    },
    {
      "cell_type": "code",
      "execution_count": null,
      "metadata": {
        "colab": {
          "background_save": true
        },
        "id": "4m3VPz8idC5W"
      },
      "outputs": [],
      "source": [
        "# Clean input data\n",
        "images_cleaned = np.nan_to_num(images, nan=0.0, posinf=0.0, neginf=0.0)\n"
      ]
    },
    {
      "cell_type": "code",
      "execution_count": null,
      "metadata": {
        "colab": {
          "background_save": true
        },
        "id": "rl4gZX0AdEf0"
      },
      "outputs": [],
      "source": [
        "from sklearn.model_selection import train_test_split\n",
        "\n",
        "X_train_cnn, X_val_cnn, y_train_cnn, y_val_cnn = train_test_split(\n",
        "    images_cleaned, y, test_size=0.2, random_state=42, stratify=y\n",
        ")\n"
      ]
    },
    {
      "cell_type": "code",
      "execution_count": null,
      "metadata": {
        "colab": {
          "background_save": true
        },
        "id": "qu-7K_aAdGSR",
        "outputId": "6ee20e45-1329-4ac9-8e41-7f71416293ac"
      },
      "outputs": [
        {
          "name": "stderr",
          "output_type": "stream",
          "text": [
            "/usr/local/lib/python3.11/dist-packages/keras/src/layers/convolutional/base_conv.py:113: UserWarning: Do not pass an `input_shape`/`input_dim` argument to a layer. When using Sequential models, prefer using an `Input(shape)` object as the first layer in the model instead.\n",
            "  super().__init__(activity_regularizer=activity_regularizer, **kwargs)\n"
          ]
        },
        {
          "data": {
            "text/html": [
              "<pre style=\"white-space:pre;overflow-x:auto;line-height:normal;font-family:Menlo,'DejaVu Sans Mono',consolas,'Courier New',monospace\"><span style=\"font-weight: bold\">Model: \"sequential_2\"</span>\n",
              "</pre>\n"
            ],
            "text/plain": [
              "\u001b[1mModel: \"sequential_2\"\u001b[0m\n"
            ]
          },
          "metadata": {},
          "output_type": "display_data"
        },
        {
          "data": {
            "text/html": [
              "<pre style=\"white-space:pre;overflow-x:auto;line-height:normal;font-family:Menlo,'DejaVu Sans Mono',consolas,'Courier New',monospace\">┏━━━━━━━━━━━━━━━━━━━━━━━━━━━━━━━━━┳━━━━━━━━━━━━━━━━━━━━━━━━┳━━━━━━━━━━━━━━━┓\n",
              "┃<span style=\"font-weight: bold\"> Layer (type)                    </span>┃<span style=\"font-weight: bold\"> Output Shape           </span>┃<span style=\"font-weight: bold\">       Param # </span>┃\n",
              "┡━━━━━━━━━━━━━━━━━━━━━━━━━━━━━━━━━╇━━━━━━━━━━━━━━━━━━━━━━━━╇━━━━━━━━━━━━━━━┩\n",
              "│ conv2d_4 (<span style=\"color: #0087ff; text-decoration-color: #0087ff\">Conv2D</span>)               │ (<span style=\"color: #00d7ff; text-decoration-color: #00d7ff\">None</span>, <span style=\"color: #00af00; text-decoration-color: #00af00\">4</span>, <span style=\"color: #00af00; text-decoration-color: #00af00\">4</span>, <span style=\"color: #00af00; text-decoration-color: #00af00\">32</span>)       │           <span style=\"color: #00af00; text-decoration-color: #00af00\">160</span> │\n",
              "├─────────────────────────────────┼────────────────────────┼───────────────┤\n",
              "│ conv2d_5 (<span style=\"color: #0087ff; text-decoration-color: #0087ff\">Conv2D</span>)               │ (<span style=\"color: #00d7ff; text-decoration-color: #00d7ff\">None</span>, <span style=\"color: #00af00; text-decoration-color: #00af00\">4</span>, <span style=\"color: #00af00; text-decoration-color: #00af00\">4</span>, <span style=\"color: #00af00; text-decoration-color: #00af00\">64</span>)       │         <span style=\"color: #00af00; text-decoration-color: #00af00\">8,256</span> │\n",
              "├─────────────────────────────────┼────────────────────────┼───────────────┤\n",
              "│ max_pooling2d_2 (<span style=\"color: #0087ff; text-decoration-color: #0087ff\">MaxPooling2D</span>)  │ (<span style=\"color: #00d7ff; text-decoration-color: #00d7ff\">None</span>, <span style=\"color: #00af00; text-decoration-color: #00af00\">2</span>, <span style=\"color: #00af00; text-decoration-color: #00af00\">2</span>, <span style=\"color: #00af00; text-decoration-color: #00af00\">64</span>)       │             <span style=\"color: #00af00; text-decoration-color: #00af00\">0</span> │\n",
              "├─────────────────────────────────┼────────────────────────┼───────────────┤\n",
              "│ dropout_4 (<span style=\"color: #0087ff; text-decoration-color: #0087ff\">Dropout</span>)             │ (<span style=\"color: #00d7ff; text-decoration-color: #00d7ff\">None</span>, <span style=\"color: #00af00; text-decoration-color: #00af00\">2</span>, <span style=\"color: #00af00; text-decoration-color: #00af00\">2</span>, <span style=\"color: #00af00; text-decoration-color: #00af00\">64</span>)       │             <span style=\"color: #00af00; text-decoration-color: #00af00\">0</span> │\n",
              "├─────────────────────────────────┼────────────────────────┼───────────────┤\n",
              "│ flatten_2 (<span style=\"color: #0087ff; text-decoration-color: #0087ff\">Flatten</span>)             │ (<span style=\"color: #00d7ff; text-decoration-color: #00d7ff\">None</span>, <span style=\"color: #00af00; text-decoration-color: #00af00\">256</span>)            │             <span style=\"color: #00af00; text-decoration-color: #00af00\">0</span> │\n",
              "├─────────────────────────────────┼────────────────────────┼───────────────┤\n",
              "│ dense_4 (<span style=\"color: #0087ff; text-decoration-color: #0087ff\">Dense</span>)                 │ (<span style=\"color: #00d7ff; text-decoration-color: #00d7ff\">None</span>, <span style=\"color: #00af00; text-decoration-color: #00af00\">64</span>)             │        <span style=\"color: #00af00; text-decoration-color: #00af00\">16,448</span> │\n",
              "├─────────────────────────────────┼────────────────────────┼───────────────┤\n",
              "│ dropout_5 (<span style=\"color: #0087ff; text-decoration-color: #0087ff\">Dropout</span>)             │ (<span style=\"color: #00d7ff; text-decoration-color: #00d7ff\">None</span>, <span style=\"color: #00af00; text-decoration-color: #00af00\">64</span>)             │             <span style=\"color: #00af00; text-decoration-color: #00af00\">0</span> │\n",
              "├─────────────────────────────────┼────────────────────────┼───────────────┤\n",
              "│ dense_5 (<span style=\"color: #0087ff; text-decoration-color: #0087ff\">Dense</span>)                 │ (<span style=\"color: #00d7ff; text-decoration-color: #00d7ff\">None</span>, <span style=\"color: #00af00; text-decoration-color: #00af00\">1</span>)              │            <span style=\"color: #00af00; text-decoration-color: #00af00\">65</span> │\n",
              "└─────────────────────────────────┴────────────────────────┴───────────────┘\n",
              "</pre>\n"
            ],
            "text/plain": [
              "┏━━━━━━━━━━━━━━━━━━━━━━━━━━━━━━━━━┳━━━━━━━━━━━━━━━━━━━━━━━━┳━━━━━━━━━━━━━━━┓\n",
              "┃\u001b[1m \u001b[0m\u001b[1mLayer (type)                   \u001b[0m\u001b[1m \u001b[0m┃\u001b[1m \u001b[0m\u001b[1mOutput Shape          \u001b[0m\u001b[1m \u001b[0m┃\u001b[1m \u001b[0m\u001b[1m      Param #\u001b[0m\u001b[1m \u001b[0m┃\n",
              "┡━━━━━━━━━━━━━━━━━━━━━━━━━━━━━━━━━╇━━━━━━━━━━━━━━━━━━━━━━━━╇━━━━━━━━━━━━━━━┩\n",
              "│ conv2d_4 (\u001b[38;5;33mConv2D\u001b[0m)               │ (\u001b[38;5;45mNone\u001b[0m, \u001b[38;5;34m4\u001b[0m, \u001b[38;5;34m4\u001b[0m, \u001b[38;5;34m32\u001b[0m)       │           \u001b[38;5;34m160\u001b[0m │\n",
              "├─────────────────────────────────┼────────────────────────┼───────────────┤\n",
              "│ conv2d_5 (\u001b[38;5;33mConv2D\u001b[0m)               │ (\u001b[38;5;45mNone\u001b[0m, \u001b[38;5;34m4\u001b[0m, \u001b[38;5;34m4\u001b[0m, \u001b[38;5;34m64\u001b[0m)       │         \u001b[38;5;34m8,256\u001b[0m │\n",
              "├─────────────────────────────────┼────────────────────────┼───────────────┤\n",
              "│ max_pooling2d_2 (\u001b[38;5;33mMaxPooling2D\u001b[0m)  │ (\u001b[38;5;45mNone\u001b[0m, \u001b[38;5;34m2\u001b[0m, \u001b[38;5;34m2\u001b[0m, \u001b[38;5;34m64\u001b[0m)       │             \u001b[38;5;34m0\u001b[0m │\n",
              "├─────────────────────────────────┼────────────────────────┼───────────────┤\n",
              "│ dropout_4 (\u001b[38;5;33mDropout\u001b[0m)             │ (\u001b[38;5;45mNone\u001b[0m, \u001b[38;5;34m2\u001b[0m, \u001b[38;5;34m2\u001b[0m, \u001b[38;5;34m64\u001b[0m)       │             \u001b[38;5;34m0\u001b[0m │\n",
              "├─────────────────────────────────┼────────────────────────┼───────────────┤\n",
              "│ flatten_2 (\u001b[38;5;33mFlatten\u001b[0m)             │ (\u001b[38;5;45mNone\u001b[0m, \u001b[38;5;34m256\u001b[0m)            │             \u001b[38;5;34m0\u001b[0m │\n",
              "├─────────────────────────────────┼────────────────────────┼───────────────┤\n",
              "│ dense_4 (\u001b[38;5;33mDense\u001b[0m)                 │ (\u001b[38;5;45mNone\u001b[0m, \u001b[38;5;34m64\u001b[0m)             │        \u001b[38;5;34m16,448\u001b[0m │\n",
              "├─────────────────────────────────┼────────────────────────┼───────────────┤\n",
              "│ dropout_5 (\u001b[38;5;33mDropout\u001b[0m)             │ (\u001b[38;5;45mNone\u001b[0m, \u001b[38;5;34m64\u001b[0m)             │             \u001b[38;5;34m0\u001b[0m │\n",
              "├─────────────────────────────────┼────────────────────────┼───────────────┤\n",
              "│ dense_5 (\u001b[38;5;33mDense\u001b[0m)                 │ (\u001b[38;5;45mNone\u001b[0m, \u001b[38;5;34m1\u001b[0m)              │            \u001b[38;5;34m65\u001b[0m │\n",
              "└─────────────────────────────────┴────────────────────────┴───────────────┘\n"
            ]
          },
          "metadata": {},
          "output_type": "display_data"
        },
        {
          "data": {
            "text/html": [
              "<pre style=\"white-space:pre;overflow-x:auto;line-height:normal;font-family:Menlo,'DejaVu Sans Mono',consolas,'Courier New',monospace\"><span style=\"font-weight: bold\"> Total params: </span><span style=\"color: #00af00; text-decoration-color: #00af00\">24,929</span> (97.38 KB)\n",
              "</pre>\n"
            ],
            "text/plain": [
              "\u001b[1m Total params: \u001b[0m\u001b[38;5;34m24,929\u001b[0m (97.38 KB)\n"
            ]
          },
          "metadata": {},
          "output_type": "display_data"
        },
        {
          "data": {
            "text/html": [
              "<pre style=\"white-space:pre;overflow-x:auto;line-height:normal;font-family:Menlo,'DejaVu Sans Mono',consolas,'Courier New',monospace\"><span style=\"font-weight: bold\"> Trainable params: </span><span style=\"color: #00af00; text-decoration-color: #00af00\">24,929</span> (97.38 KB)\n",
              "</pre>\n"
            ],
            "text/plain": [
              "\u001b[1m Trainable params: \u001b[0m\u001b[38;5;34m24,929\u001b[0m (97.38 KB)\n"
            ]
          },
          "metadata": {},
          "output_type": "display_data"
        },
        {
          "data": {
            "text/html": [
              "<pre style=\"white-space:pre;overflow-x:auto;line-height:normal;font-family:Menlo,'DejaVu Sans Mono',consolas,'Courier New',monospace\"><span style=\"font-weight: bold\"> Non-trainable params: </span><span style=\"color: #00af00; text-decoration-color: #00af00\">0</span> (0.00 B)\n",
              "</pre>\n"
            ],
            "text/plain": [
              "\u001b[1m Non-trainable params: \u001b[0m\u001b[38;5;34m0\u001b[0m (0.00 B)\n"
            ]
          },
          "metadata": {},
          "output_type": "display_data"
        }
      ],
      "source": [
        "cnn_model = Sequential([\n",
        "    Conv2D(32, (2, 2), activation='relu', input_shape=(4, 4, 1), padding='same'),\n",
        "    Conv2D(64, (2, 2), activation='relu', padding='same'),\n",
        "    MaxPooling2D(pool_size=(2, 2)),\n",
        "    Dropout(0.3),\n",
        "    Flatten(),\n",
        "    Dense(64, activation='relu'),\n",
        "    Dropout(0.3),\n",
        "    Dense(1, activation='sigmoid')\n",
        "])\n",
        "\n",
        "cnn_model.compile(optimizer='adam', loss='binary_crossentropy', metrics=['accuracy'])\n",
        "cnn_model.summary()\n"
      ]
    },
    {
      "cell_type": "code",
      "execution_count": null,
      "metadata": {
        "colab": {
          "background_save": true
        },
        "id": "w622WhQRdIWc",
        "outputId": "d1b0a613-2e1b-43f1-d8f8-7b9522e6ad81"
      },
      "outputs": [
        {
          "name": "stdout",
          "output_type": "stream",
          "text": [
            "Epoch 1/20\n",
            "\u001b[1m10/10\u001b[0m \u001b[32m━━━━━━━━━━━━━━━━━━━━\u001b[0m\u001b[37m\u001b[0m \u001b[1m1s\u001b[0m 22ms/step - accuracy: 0.7563 - loss: 0.6200 - val_accuracy: 0.8000 - val_loss: 0.5351\n",
            "Epoch 2/20\n",
            "\u001b[1m10/10\u001b[0m \u001b[32m━━━━━━━━━━━━━━━━━━━━\u001b[0m\u001b[37m\u001b[0m \u001b[1m0s\u001b[0m 7ms/step - accuracy: 0.7937 - loss: 0.5262 - val_accuracy: 0.8000 - val_loss: 0.5117\n",
            "Epoch 3/20\n",
            "\u001b[1m10/10\u001b[0m \u001b[32m━━━━━━━━━━━━━━━━━━━━\u001b[0m\u001b[37m\u001b[0m \u001b[1m0s\u001b[0m 7ms/step - accuracy: 0.7937 - loss: 0.5217 - val_accuracy: 0.8000 - val_loss: 0.5061\n",
            "Epoch 4/20\n",
            "\u001b[1m10/10\u001b[0m \u001b[32m━━━━━━━━━━━━━━━━━━━━\u001b[0m\u001b[37m\u001b[0m \u001b[1m0s\u001b[0m 6ms/step - accuracy: 0.7937 - loss: 0.5218 - val_accuracy: 0.8000 - val_loss: 0.5067\n",
            "Epoch 5/20\n",
            "\u001b[1m10/10\u001b[0m \u001b[32m━━━━━━━━━━━━━━━━━━━━\u001b[0m\u001b[37m\u001b[0m \u001b[1m0s\u001b[0m 7ms/step - accuracy: 0.7937 - loss: 0.5141 - val_accuracy: 0.8000 - val_loss: 0.5056\n",
            "Epoch 6/20\n",
            "\u001b[1m10/10\u001b[0m \u001b[32m━━━━━━━━━━━━━━━━━━━━\u001b[0m\u001b[37m\u001b[0m \u001b[1m0s\u001b[0m 6ms/step - accuracy: 0.7937 - loss: 0.5200 - val_accuracy: 0.8000 - val_loss: 0.5048\n",
            "Epoch 7/20\n",
            "\u001b[1m10/10\u001b[0m \u001b[32m━━━━━━━━━━━━━━━━━━━━\u001b[0m\u001b[37m\u001b[0m \u001b[1m0s\u001b[0m 15ms/step - accuracy: 0.7937 - loss: 0.5030 - val_accuracy: 0.8000 - val_loss: 0.5049\n",
            "Epoch 8/20\n",
            "\u001b[1m10/10\u001b[0m \u001b[32m━━━━━━━━━━━━━━━━━━━━\u001b[0m\u001b[37m\u001b[0m \u001b[1m0s\u001b[0m 9ms/step - accuracy: 0.7937 - loss: 0.5202 - val_accuracy: 0.8000 - val_loss: 0.5035\n",
            "Epoch 9/20\n",
            "\u001b[1m10/10\u001b[0m \u001b[32m━━━━━━━━━━━━━━━━━━━━\u001b[0m\u001b[37m\u001b[0m \u001b[1m0s\u001b[0m 13ms/step - accuracy: 0.7937 - loss: 0.4945 - val_accuracy: 0.8000 - val_loss: 0.5033\n",
            "Epoch 10/20\n",
            "\u001b[1m10/10\u001b[0m \u001b[32m━━━━━━━━━━━━━━━━━━━━\u001b[0m\u001b[37m\u001b[0m \u001b[1m0s\u001b[0m 15ms/step - accuracy: 0.7937 - loss: 0.5044 - val_accuracy: 0.8000 - val_loss: 0.5034\n",
            "Epoch 11/20\n",
            "\u001b[1m10/10\u001b[0m \u001b[32m━━━━━━━━━━━━━━━━━━━━\u001b[0m\u001b[37m\u001b[0m \u001b[1m0s\u001b[0m 9ms/step - accuracy: 0.7937 - loss: 0.4881 - val_accuracy: 0.8000 - val_loss: 0.5029\n",
            "Epoch 12/20\n",
            "\u001b[1m10/10\u001b[0m \u001b[32m━━━━━━━━━━━━━━━━━━━━\u001b[0m\u001b[37m\u001b[0m \u001b[1m0s\u001b[0m 7ms/step - accuracy: 0.7937 - loss: 0.5090 - val_accuracy: 0.8000 - val_loss: 0.4997\n",
            "Epoch 13/20\n",
            "\u001b[1m10/10\u001b[0m \u001b[32m━━━━━━━━━━━━━━━━━━━━\u001b[0m\u001b[37m\u001b[0m \u001b[1m0s\u001b[0m 8ms/step - accuracy: 0.7937 - loss: 0.4953 - val_accuracy: 0.8000 - val_loss: 0.4983\n",
            "Epoch 14/20\n",
            "\u001b[1m10/10\u001b[0m \u001b[32m━━━━━━━━━━━━━━━━━━━━\u001b[0m\u001b[37m\u001b[0m \u001b[1m0s\u001b[0m 7ms/step - accuracy: 0.7937 - loss: 0.4744 - val_accuracy: 0.8000 - val_loss: 0.4987\n",
            "Epoch 15/20\n",
            "\u001b[1m10/10\u001b[0m \u001b[32m━━━━━━━━━━━━━━━━━━━━\u001b[0m\u001b[37m\u001b[0m \u001b[1m0s\u001b[0m 7ms/step - accuracy: 0.7937 - loss: 0.4884 - val_accuracy: 0.8000 - val_loss: 0.4993\n",
            "Epoch 16/20\n",
            "\u001b[1m10/10\u001b[0m \u001b[32m━━━━━━━━━━━━━━━━━━━━\u001b[0m\u001b[37m\u001b[0m \u001b[1m0s\u001b[0m 7ms/step - accuracy: 0.7937 - loss: 0.4721 - val_accuracy: 0.8000 - val_loss: 0.4950\n",
            "Epoch 17/20\n",
            "\u001b[1m10/10\u001b[0m \u001b[32m━━━━━━━━━━━━━━━━━━━━\u001b[0m\u001b[37m\u001b[0m \u001b[1m0s\u001b[0m 7ms/step - accuracy: 0.7937 - loss: 0.4766 - val_accuracy: 0.8000 - val_loss: 0.4927\n",
            "Epoch 18/20\n",
            "\u001b[1m10/10\u001b[0m \u001b[32m━━━━━━━━━━━━━━━━━━━━\u001b[0m\u001b[37m\u001b[0m \u001b[1m0s\u001b[0m 7ms/step - accuracy: 0.7937 - loss: 0.4761 - val_accuracy: 0.8000 - val_loss: 0.4891\n",
            "Epoch 19/20\n",
            "\u001b[1m10/10\u001b[0m \u001b[32m━━━━━━━━━━━━━━━━━━━━\u001b[0m\u001b[37m\u001b[0m \u001b[1m0s\u001b[0m 7ms/step - accuracy: 0.7937 - loss: 0.4808 - val_accuracy: 0.8000 - val_loss: 0.4866\n",
            "Epoch 20/20\n",
            "\u001b[1m10/10\u001b[0m \u001b[32m━━━━━━━━━━━━━━━━━━━━\u001b[0m\u001b[37m\u001b[0m \u001b[1m0s\u001b[0m 8ms/step - accuracy: 0.7937 - loss: 0.4526 - val_accuracy: 0.8000 - val_loss: 0.4855\n"
          ]
        }
      ],
      "source": [
        "history_cnn = cnn_model.fit(\n",
        "    X_train_cnn, y_train_cnn,\n",
        "    epochs=20,\n",
        "    batch_size=16,\n",
        "    validation_data=(X_val_cnn, y_val_cnn)\n",
        ")\n"
      ]
    },
    {
      "cell_type": "code",
      "execution_count": null,
      "metadata": {
        "colab": {
          "background_save": true
        },
        "id": "X5vMbyi9dMco",
        "outputId": "fb4c80ca-e081-4140-b9c5-3c960727f3e5"
      },
      "outputs": [
        {
          "name": "stdout",
          "output_type": "stream",
          "text": [
            "✅ CNN Validation Accuracy: 0.800\n",
            "\u001b[1m2/2\u001b[0m \u001b[32m━━━━━━━━━━━━━━━━━━━━\u001b[0m\u001b[37m\u001b[0m \u001b[1m0s\u001b[0m 56ms/step\n"
          ]
        }
      ],
      "source": [
        "loss_cnn, acc_cnn = cnn_model.evaluate(X_val_cnn, y_val_cnn, verbose=0)\n",
        "print(f\"✅ CNN Validation Accuracy: {acc_cnn:.3f}\")\n",
        "\n",
        "y_probabilities_cnn = cnn_model.predict(X_val_cnn).flatten()\n"
      ]
    },
    {
      "cell_type": "code",
      "execution_count": null,
      "metadata": {
        "colab": {
          "background_save": true
        },
        "id": "9V8ImqODdPFB",
        "outputId": "568c0507-a1f8-477f-8a63-432f7003ab30"
      },
      "outputs": [
        {
          "data": {
            "image/png": "[encoded data removed]",
            "text/plain": [
              "<Figure size 800x600 with 1 Axes>"
            ]
          },
          "metadata": {},
          "output_type": "display_data"
        }
      ],
      "source": [
        "from sklearn.metrics import roc_curve, auc\n",
        "import matplotlib.pyplot as plt\n",
        "\n",
        "# Clean predictions\n",
        "mask = ~np.isnan(y_probabilities_cnn)\n",
        "y_prob_clean = y_probabilities_cnn[mask]\n",
        "y_val_clean = np.array(y_val_cnn).flatten()[mask]\n",
        "\n",
        "# Plot ROC\n",
        "if len(np.unique(y_val_clean)) < 2:\n",
        "    raise ValueError(\"❌ ROC needs both class 0 and 1.\")\n",
        "else:\n",
        "    fpr, tpr, _ = roc_curve(y_val_clean, y_prob_clean)\n",
        "    roc_auc = auc(fpr, tpr)\n",
        "\n",
        "    plt.figure(figsize=(8, 6))\n",
        "    plt.plot(fpr, tpr, label=f\"ROC (AUC = {roc_auc:.2f})\", color='darkorange')\n",
        "    plt.plot([0, 1], [0, 1], linestyle='--', color='gray')\n",
        "    plt.xlabel(\"False Positive Rate\")\n",
        "    plt.ylabel(\"True Positive Rate\")\n",
        "    plt.title(\"ROC Curve — CNN Model\")\n",
        "    plt.legend(loc=\"lower right\")\n",
        "    plt.grid(True)\n",
        "    plt.show()"
      ]
    },
    {
      "cell_type": "code",
      "execution_count": null,
      "metadata": {
        "colab": {
          "background_save": true
        },
        "id": "kyL_UJLldh2-",
        "outputId": "05a49247-4557-4b48-be04-1c359e6b9284"
      },
      "outputs": [
        {
          "name": "stdout",
          "output_type": "stream",
          "text": [
            "\u001b[1m2/2\u001b[0m \u001b[32m━━━━━━━━━━━━━━━━━━━━\u001b[0m\u001b[37m\u001b[0m \u001b[1m0s\u001b[0m 13ms/step\n"
          ]
        }
      ],
      "source": [
        "# CNN predictions (make sure model is trained on cleaned inputs)\n",
        "y_probs_cnn = cnn_model.predict(X_val_cnn).flatten()\n",
        "\n",
        "# Logistic Regression probabilities\n",
        "from sklearn.linear_model import LogisticRegression\n",
        "y_probs_lr = lr_model.predict_proba(X_test_lr)[:, 1]\n"
      ]
    },
    {
      "cell_type": "code",
      "execution_count": null,
      "metadata": {
        "colab": {
          "background_save": true
        },
        "id": "zMHajggxdkAz"
      },
      "outputs": [],
      "source": [
        "import numpy as np\n",
        "\n",
        "# CNN\n",
        "mask_cnn = ~np.isnan(y_probs_cnn)\n",
        "y_probs_cnn_clean = y_probs_cnn[mask_cnn]\n",
        "y_val_cnn_clean = np.array(y_val_cnn).flatten()[mask_cnn]\n",
        "\n",
        "# Logistic Regression — usually doesn't produce NaNs, but check anyway\n",
        "mask_lr = ~np.isnan(y_probs_lr)\n",
        "y_probs_lr_clean = y_probs_lr[mask_lr]\n",
        "y_test_lr_clean = np.array(y_test_lr).flatten()[mask_lr]\n"
      ]
    },
    {
      "cell_type": "code",
      "execution_count": null,
      "metadata": {
        "colab": {
          "background_save": true
        },
        "id": "N4ku3XPPdl6c",
        "outputId": "46ea5041-15ce-406c-b776-569e606a1cbb"
      },
      "outputs": [
        {
          "data": {
            "image/png": "[encoded data removed]",
            "text/plain": [
              "<Figure size 800x600 with 1 Axes>"
            ]
          },
          "metadata": {},
          "output_type": "display_data"
        }
      ],
      "source": [
        "from sklearn.metrics import roc_curve, auc\n",
        "import matplotlib.pyplot as plt\n",
        "\n",
        "fpr_cnn, tpr_cnn, _ = roc_curve(y_val_cnn_clean, y_probs_cnn_clean)\n",
        "roc_auc_cnn = auc(fpr_cnn, tpr_cnn)\n",
        "\n",
        "fpr_lr, tpr_lr, _ = roc_curve(y_test_lr_clean, y_probs_lr_clean)\n",
        "roc_auc_lr = auc(fpr_lr, tpr_lr)\n",
        "\n",
        "plt.figure(figsize=(8, 6))\n",
        "plt.plot(fpr_cnn, tpr_cnn, label=f\"CNN (AUC = {roc_auc_cnn:.2f})\", color='darkorange')\n",
        "plt.plot(fpr_lr, tpr_lr, label=f\"Logistic Regression (AUC = {roc_auc_lr:.2f})\", color='blue')\n",
        "plt.plot([0, 1], [0, 1], linestyle='--', color='gray', label='Random Guess')\n",
        "\n",
        "plt.xlabel(\"False Positive Rate\")\n",
        "plt.ylabel(\"True Positive Rate\")\n",
        "plt.title(\"ROC Curve Comparison — CNN vs Logistic Regression\")\n",
        "plt.legend(loc=\"lower right\")\n",
        "plt.grid(True)\n",
        "plt.show()\n"
      ]
    },
    {
      "cell_type": "code",
      "execution_count": null,
      "metadata": {
        "colab": {
          "background_save": true
        },
        "id": "lv_ftOPadqmr",
        "outputId": "827d8f30-24a5-45df-9a4b-1d9d4c66b98e"
      },
      "outputs": [
        {
          "name": "stdout",
          "output_type": "stream",
          "text": [
            "🧠 CNN AUC: 0.648\n",
            "📈 Logistic Regression AUC: 0.987\n"
          ]
        }
      ],
      "source": [
        "print(f\"🧠 CNN AUC: {roc_auc_cnn:.3f}\")\n",
        "print(f\"📈 Logistic Regression AUC: {roc_auc_lr:.3f}\")\n"
      ]
    },
    {
      "cell_type": "code",
      "execution_count": null,
      "metadata": {
        "colab": {
          "background_save": true
        },
        "id": "u0-uBangdx0u",
        "outputId": "fc4cbb94-287a-4d40-9460-d555a8b075f8"
      },
      "outputs": [
        {
          "name": "stdout",
          "output_type": "stream",
          "text": [
            "Requirement already satisfied: scikeras in /usr/local/lib/python3.11/dist-packages (0.13.0)\n",
            "Requirement already satisfied: keras>=3.2.0 in /usr/local/lib/python3.11/dist-packages (from scikeras) (3.11.1)\n",
            "Requirement already satisfied: scikit-learn>=1.4.2 in /usr/local/lib/python3.11/dist-packages (from scikeras) (1.6.1)\n",
            "Requirement already satisfied: absl-py in /usr/local/lib/python3.11/dist-packages (from keras>=3.2.0->scikeras) (1.4.0)\n",
            "Requirement already satisfied: numpy in /usr/local/lib/python3.11/dist-packages (from keras>=3.2.0->scikeras) (2.0.2)\n",
            "Requirement already satisfied: rich in /usr/local/lib/python3.11/dist-packages (from keras>=3.2.0->scikeras) (13.9.4)\n",
            "Requirement already satisfied: namex in /usr/local/lib/python3.11/dist-packages (from keras>=3.2.0->scikeras) (0.1.0)\n",
            "Requirement already satisfied: h5py in /usr/local/lib/python3.11/dist-packages (from keras>=3.2.0->scikeras) (3.14.0)\n",
            "Requirement already satisfied: optree in /usr/local/lib/python3.11/dist-packages (from keras>=3.2.0->scikeras) (0.17.0)\n",
            "Requirement already satisfied: ml-dtypes in /usr/local/lib/python3.11/dist-packages (from keras>=3.2.0->scikeras) (0.5.3)\n",
            "Requirement already satisfied: packaging in /usr/local/lib/python3.11/dist-packages (from keras>=3.2.0->scikeras) (25.0)\n",
            "Requirement already satisfied: scipy>=1.6.0 in /usr/local/lib/python3.11/dist-packages (from scikit-learn>=1.4.2->scikeras) (1.16.1)\n",
            "Requirement already satisfied: joblib>=1.2.0 in /usr/local/lib/python3.11/dist-packages (from scikit-learn>=1.4.2->scikeras) (1.5.1)\n",
            "Requirement already satisfied: threadpoolctl>=3.1.0 in /usr/local/lib/python3.11/dist-packages (from scikit-learn>=1.4.2->scikeras) (3.6.0)\n",
            "Requirement already satisfied: typing-extensions>=4.6.0 in /usr/local/lib/python3.11/dist-packages (from optree->keras>=3.2.0->scikeras) (4.14.1)\n",
            "Requirement already satisfied: markdown-it-py>=2.2.0 in /usr/local/lib/python3.11/dist-packages (from rich->keras>=3.2.0->scikeras) (3.0.0)\n",
            "Requirement already satisfied: pygments<3.0.0,>=2.13.0 in /usr/local/lib/python3.11/dist-packages (from rich->keras>=3.2.0->scikeras) (2.19.2)\n",
            "Requirement already satisfied: mdurl~=0.1 in /usr/local/lib/python3.11/dist-packages (from markdown-it-py>=2.2.0->rich->keras>=3.2.0->scikeras) (0.1.2)\n"
          ]
        }
      ],
      "source": [
        "!pip install -U scikeras\n",
        "\n"
      ]
    },
    {
      "cell_type": "code",
      "execution_count": null,
      "metadata": {
        "colab": {
          "background_save": true
        },
        "id": "ohfI8mEfd29r"
      },
      "outputs": [],
      "source": [
        "from tensorflow.keras.models import Sequential\n",
        "from tensorflow.keras.layers import Conv2D, MaxPooling2D, Flatten, Dense, Dropout\n",
        "from tensorflow.keras.optimizers import Adam\n",
        "\n",
        "def build_model(filters=32, kernel_size=2, activation='relu', dropout_rate=0.3, learning_rate=0.001):\n",
        "    model = Sequential([\n",
        "        Conv2D(filters, (kernel_size, kernel_size), activation=activation, input_shape=(4, 4, 1), padding='same'),\n",
        "        Conv2D(filters * 2, (kernel_size, kernel_size), activation=activation, padding='same'),\n",
        "        MaxPooling2D(pool_size=(2, 2)),\n",
        "        Dropout(dropout_rate),\n",
        "        Flatten(),\n",
        "        Dense(64, activation=activation),\n",
        "        Dropout(dropout_rate),\n",
        "        Dense(1, activation='sigmoid')  # Binary output\n",
        "    ])\n",
        "    model.compile(optimizer=Adam(learning_rate=learning_rate), loss='binary_crossentropy', metrics=['accuracy'])\n",
        "    return model\n"
      ]
    },
    {
      "cell_type": "code",
      "execution_count": null,
      "metadata": {
        "colab": {
          "background_save": true
        },
        "id": "-V4KX7Lbd5Fi"
      },
      "outputs": [],
      "source": [
        "from scikeras.wrappers import KerasClassifier\n",
        "\n",
        "clf = KerasClassifier(\n",
        "    model=build_model,\n",
        "    epochs=20,\n",
        "    batch_size=16,\n",
        "    verbose=0,\n",
        "    filters=32,\n",
        "    kernel_size=2,\n",
        "    activation='relu',\n",
        "    dropout_rate=0.3,\n",
        "    learning_rate=0.001\n",
        ")\n",
        "\n",
        "\n",
        "\n"
      ]
    },
    {
      "cell_type": "code",
      "execution_count": null,
      "metadata": {
        "colab": {
          "background_save": true
        },
        "id": "T1M3sf2yl_E9"
      },
      "outputs": [],
      "source": [
        "param_dist = {\n",
        "    \"filters\": [16, 32, 64],\n",
        "    \"kernel_size\": [2, 3],\n",
        "    \"activation\": [\"relu\", \"tanh\"],\n",
        "    \"dropout_rate\": [0.2, 0.3, 0.5],\n",
        "    \"learning_rate\": [0.001, 0.0005]\n",
        "}\n"
      ]
    },
    {
      "cell_type": "code",
      "execution_count": null,
      "metadata": {
        "colab": {
          "background_save": true
        },
        "id": "EFALOyFid7Fe",
        "outputId": "1fc60264-6bb5-4de9-d680-47541b5a6964"
      },
      "outputs": [
        {
          "ename": "AttributeError",
          "evalue": "'super' object has no attribute '__sklearn_tags__'",
          "output_type": "error",
          "traceback": [
            "\u001b[0;31m---------------------------------------------------------------------------\u001b[0m",
            "\u001b[0;31mAttributeError\u001b[0m                            Traceback (most recent call last)",
            "\u001b[0;32m/tmp/ipython-input-3095103589.py\u001b[0m in \u001b[0;36m<cell line: 0>\u001b[0;34m()\u001b[0m\n\u001b[1;32m     10\u001b[0m )\n\u001b[1;32m     11\u001b[0m \u001b[0;34m\u001b[0m\u001b[0m\n\u001b[0;32m---> 12\u001b[0;31m \u001b[0msearch\u001b[0m\u001b[0;34m.\u001b[0m\u001b[0mfit\u001b[0m\u001b[0;34m(\u001b[0m\u001b[0mimages_cleaned\u001b[0m\u001b[0;34m,\u001b[0m \u001b[0my\u001b[0m\u001b[0;34m)\u001b[0m\u001b[0;34m\u001b[0m\u001b[0;34m\u001b[0m\u001b[0m\n\u001b[0m\u001b[1;32m     13\u001b[0m \u001b[0;34m\u001b[0m\u001b[0m\n\u001b[1;32m     14\u001b[0m \u001b[0;34m\u001b[0m\u001b[0m\n",
            "\u001b[0;32m/usr/local/lib/python3.11/dist-packages/sklearn/base.py\u001b[0m in \u001b[0;36mwrapper\u001b[0;34m(estimator, *args, **kwargs)\u001b[0m\n\u001b[1;32m   1387\u001b[0m                 )\n\u001b[1;32m   1388\u001b[0m             ):\n\u001b[0;32m-> 1389\u001b[0;31m                 \u001b[0;32mreturn\u001b[0m \u001b[0mfit_method\u001b[0m\u001b[0;34m(\u001b[0m\u001b[0mestimator\u001b[0m\u001b[0;34m,\u001b[0m \u001b[0;34m*\u001b[0m\u001b[0margs\u001b[0m\u001b[0;34m,\u001b[0m \u001b[0;34m**\u001b[0m\u001b[0mkwargs\u001b[0m\u001b[0;34m)\u001b[0m\u001b[0;34m\u001b[0m\u001b[0;34m\u001b[0m\u001b[0m\n\u001b[0m\u001b[1;32m   1390\u001b[0m \u001b[0;34m\u001b[0m\u001b[0m\n\u001b[1;32m   1391\u001b[0m         \u001b[0;32mreturn\u001b[0m \u001b[0mwrapper\u001b[0m\u001b[0;34m\u001b[0m\u001b[0;34m\u001b[0m\u001b[0m\n",
            "\u001b[0;32m/usr/local/lib/python3.11/dist-packages/sklearn/model_selection/_search.py\u001b[0m in \u001b[0;36mfit\u001b[0;34m(self, X, y, **params)\u001b[0m\n\u001b[1;32m    931\u001b[0m         \u001b[0mrouted_params\u001b[0m \u001b[0;34m=\u001b[0m \u001b[0mself\u001b[0m\u001b[0;34m.\u001b[0m\u001b[0m_get_routed_params_for_fit\u001b[0m\u001b[0;34m(\u001b[0m\u001b[0mparams\u001b[0m\u001b[0;34m)\u001b[0m\u001b[0;34m\u001b[0m\u001b[0;34m\u001b[0m\u001b[0m\n\u001b[1;32m    932\u001b[0m \u001b[0;34m\u001b[0m\u001b[0m\n\u001b[0;32m--> 933\u001b[0;31m         \u001b[0mcv_orig\u001b[0m \u001b[0;34m=\u001b[0m \u001b[0mcheck_cv\u001b[0m\u001b[0;34m(\u001b[0m\u001b[0mself\u001b[0m\u001b[0;34m.\u001b[0m\u001b[0mcv\u001b[0m\u001b[0;34m,\u001b[0m \u001b[0my\u001b[0m\u001b[0;34m,\u001b[0m \u001b[0mclassifier\u001b[0m\u001b[0;34m=\u001b[0m\u001b[0mis_classifier\u001b[0m\u001b[0;34m(\u001b[0m\u001b[0mestimator\u001b[0m\u001b[0;34m)\u001b[0m\u001b[0;34m)\u001b[0m\u001b[0;34m\u001b[0m\u001b[0;34m\u001b[0m\u001b[0m\n\u001b[0m\u001b[1;32m    934\u001b[0m         \u001b[0mn_splits\u001b[0m \u001b[0;34m=\u001b[0m \u001b[0mcv_orig\u001b[0m\u001b[0;34m.\u001b[0m\u001b[0mget_n_splits\u001b[0m\u001b[0;34m(\u001b[0m\u001b[0mX\u001b[0m\u001b[0;34m,\u001b[0m \u001b[0my\u001b[0m\u001b[0;34m,\u001b[0m \u001b[0;34m**\u001b[0m\u001b[0mrouted_params\u001b[0m\u001b[0;34m.\u001b[0m\u001b[0msplitter\u001b[0m\u001b[0;34m.\u001b[0m\u001b[0msplit\u001b[0m\u001b[0;34m)\u001b[0m\u001b[0;34m\u001b[0m\u001b[0;34m\u001b[0m\u001b[0m\n\u001b[1;32m    935\u001b[0m \u001b[0;34m\u001b[0m\u001b[0m\n",
            "\u001b[0;32m/usr/local/lib/python3.11/dist-packages/sklearn/base.py\u001b[0m in \u001b[0;36mis_classifier\u001b[0;34m(estimator)\u001b[0m\n\u001b[1;32m   1235\u001b[0m         \u001b[0;32mreturn\u001b[0m \u001b[0mgetattr\u001b[0m\u001b[0;34m(\u001b[0m\u001b[0mestimator\u001b[0m\u001b[0;34m,\u001b[0m \u001b[0;34m\"_estimator_type\"\u001b[0m\u001b[0;34m,\u001b[0m \u001b[0;32mNone\u001b[0m\u001b[0;34m)\u001b[0m \u001b[0;34m==\u001b[0m \u001b[0;34m\"classifier\"\u001b[0m\u001b[0;34m\u001b[0m\u001b[0;34m\u001b[0m\u001b[0m\n\u001b[1;32m   1236\u001b[0m \u001b[0;34m\u001b[0m\u001b[0m\n\u001b[0;32m-> 1237\u001b[0;31m     \u001b[0;32mreturn\u001b[0m \u001b[0mget_tags\u001b[0m\u001b[0;34m(\u001b[0m\u001b[0mestimator\u001b[0m\u001b[0;34m)\u001b[0m\u001b[0;34m.\u001b[0m\u001b[0mestimator_type\u001b[0m \u001b[0;34m==\u001b[0m \u001b[0;34m\"classifier\"\u001b[0m\u001b[0;34m\u001b[0m\u001b[0;34m\u001b[0m\u001b[0m\n\u001b[0m\u001b[1;32m   1238\u001b[0m \u001b[0;34m\u001b[0m\u001b[0m\n\u001b[1;32m   1239\u001b[0m \u001b[0;34m\u001b[0m\u001b[0m\n",
            "\u001b[0;32m/usr/local/lib/python3.11/dist-packages/sklearn/utils/_tags.py\u001b[0m in \u001b[0;36mget_tags\u001b[0;34m(estimator)\u001b[0m\n\u001b[1;32m    428\u001b[0m         \u001b[0;32mfor\u001b[0m \u001b[0mklass\u001b[0m \u001b[0;32min\u001b[0m \u001b[0mreversed\u001b[0m\u001b[0;34m(\u001b[0m\u001b[0mtype\u001b[0m\u001b[0;34m(\u001b[0m\u001b[0mestimator\u001b[0m\u001b[0;34m)\u001b[0m\u001b[0;34m.\u001b[0m\u001b[0mmro\u001b[0m\u001b[0;34m(\u001b[0m\u001b[0;34m)\u001b[0m\u001b[0;34m)\u001b[0m\u001b[0;34m:\u001b[0m\u001b[0;34m\u001b[0m\u001b[0;34m\u001b[0m\u001b[0m\n\u001b[1;32m    429\u001b[0m             \u001b[0;32mif\u001b[0m \u001b[0;34m\"__sklearn_tags__\"\u001b[0m \u001b[0;32min\u001b[0m \u001b[0mvars\u001b[0m\u001b[0;34m(\u001b[0m\u001b[0mklass\u001b[0m\u001b[0;34m)\u001b[0m\u001b[0;34m:\u001b[0m\u001b[0;34m\u001b[0m\u001b[0;34m\u001b[0m\u001b[0m\n\u001b[0;32m--> 430\u001b[0;31m                 \u001b[0msklearn_tags_provider\u001b[0m\u001b[0;34m[\u001b[0m\u001b[0mklass\u001b[0m\u001b[0;34m]\u001b[0m \u001b[0;34m=\u001b[0m \u001b[0mklass\u001b[0m\u001b[0;34m.\u001b[0m\u001b[0m__sklearn_tags__\u001b[0m\u001b[0;34m(\u001b[0m\u001b[0mestimator\u001b[0m\u001b[0;34m)\u001b[0m  \u001b[0;31m# type: ignore[attr-defined]\u001b[0m\u001b[0;34m\u001b[0m\u001b[0;34m\u001b[0m\u001b[0m\n\u001b[0m\u001b[1;32m    431\u001b[0m                 \u001b[0mclass_order\u001b[0m\u001b[0;34m.\u001b[0m\u001b[0mappend\u001b[0m\u001b[0;34m(\u001b[0m\u001b[0mklass\u001b[0m\u001b[0;34m)\u001b[0m\u001b[0;34m\u001b[0m\u001b[0;34m\u001b[0m\u001b[0m\n\u001b[1;32m    432\u001b[0m             \u001b[0;32melif\u001b[0m \u001b[0;34m\"_more_tags\"\u001b[0m \u001b[0;32min\u001b[0m \u001b[0mvars\u001b[0m\u001b[0;34m(\u001b[0m\u001b[0mklass\u001b[0m\u001b[0;34m)\u001b[0m\u001b[0;34m:\u001b[0m\u001b[0;34m\u001b[0m\u001b[0;34m\u001b[0m\u001b[0m\n",
            "\u001b[0;32m/usr/local/lib/python3.11/dist-packages/sklearn/base.py\u001b[0m in \u001b[0;36m__sklearn_tags__\u001b[0;34m(self)\u001b[0m\n\u001b[1;32m    538\u001b[0m \u001b[0;34m\u001b[0m\u001b[0m\n\u001b[1;32m    539\u001b[0m     \u001b[0;32mdef\u001b[0m \u001b[0m__sklearn_tags__\u001b[0m\u001b[0;34m(\u001b[0m\u001b[0mself\u001b[0m\u001b[0;34m)\u001b[0m\u001b[0;34m:\u001b[0m\u001b[0;34m\u001b[0m\u001b[0;34m\u001b[0m\u001b[0m\n\u001b[0;32m--> 540\u001b[0;31m         \u001b[0mtags\u001b[0m \u001b[0;34m=\u001b[0m \u001b[0msuper\u001b[0m\u001b[0;34m(\u001b[0m\u001b[0;34m)\u001b[0m\u001b[0;34m.\u001b[0m\u001b[0m__sklearn_tags__\u001b[0m\u001b[0;34m(\u001b[0m\u001b[0;34m)\u001b[0m\u001b[0;34m\u001b[0m\u001b[0;34m\u001b[0m\u001b[0m\n\u001b[0m\u001b[1;32m    541\u001b[0m         \u001b[0mtags\u001b[0m\u001b[0;34m.\u001b[0m\u001b[0mestimator_type\u001b[0m \u001b[0;34m=\u001b[0m \u001b[0;34m\"classifier\"\u001b[0m\u001b[0;34m\u001b[0m\u001b[0;34m\u001b[0m\u001b[0m\n\u001b[1;32m    542\u001b[0m         \u001b[0mtags\u001b[0m\u001b[0;34m.\u001b[0m\u001b[0mclassifier_tags\u001b[0m \u001b[0;34m=\u001b[0m \u001b[0mClassifierTags\u001b[0m\u001b[0;34m(\u001b[0m\u001b[0;34m)\u001b[0m\u001b[0;34m\u001b[0m\u001b[0;34m\u001b[0m\u001b[0m\n",
            "\u001b[0;31mAttributeError\u001b[0m: 'super' object has no attribute '__sklearn_tags__'"
          ]
        }
      ],
      "source": [
        "from sklearn.model_selection import RandomizedSearchCV\n",
        "\n",
        "search = RandomizedSearchCV(\n",
        "    estimator=clf,\n",
        "    param_distributions=param_dist,\n",
        "    n_iter=5,  # You can increase this for better search\n",
        "    cv=3,\n",
        "    verbose=2,\n",
        "    n_jobs=-1\n",
        ")\n",
        "\n",
        "search.fit(images_cleaned, y)\n",
        "\n",
        "\n"
      ]
    },
    {
      "cell_type": "code",
      "execution_count": null,
      "metadata": {
        "colab": {
          "background_save": true
        },
        "id": "FZn43e87gVwR"
      },
      "outputs": [],
      "source": [
        "print(\"✅ Best Hyperparameters:\", search.best_params_)\n",
        "print(f\"✅ Best Cross-Validated Accuracy: {search.best_score_:.4f}\")\n"
      ]
    },
    {
      "cell_type": "markdown",
      "metadata": {
        "id": "jzC6Ca4rhJ4x"
      },
      "source": [
        "## final report\n",
        "\n",
        "In this project, we aimed to predict whether a food delivery would be “Fast” or “Delayed” using two machine learning approaches: a Convolutional Neural Network (CNN) and Logistic Regression. The tabular dataset was transformed into 4×4 grayscale image-like arrays to make it suitable for CNN input. The CNN architecture consisted of convolutional, pooling, dropout, and dense layers and was compiled using binary cross-entropy loss and the Adam optimizer. We trained the model and used both validation accuracy and manual 5-fold cross-validation to evaluate its performance. After hyperparameter tuning with RandomizedSearchCV, the CNN achieved a best cross-validated accuracy of 85.01% using 32 filters, a kernel size of 3, ReLU activation, 0.2 dropout rate, and a learning rate of 0.001. The final CNN validation accuracy was 80%, but the model struggled to predict the minority class (“Delayed”), as shown in the classification report. Logistic Regression served as a baseline model, achieving an average accuracy of 84.5% across five folds, with a highest fold accuracy of 87.5%. The study highlights that while both models performed well, the CNN offers potential for further improvements with balanced data or more advanced architectures, and model evaluation through cross-validation and classification metrics ensured that results were reliable and generalizable."
      ]
    }
  ],
  "metadata": {
    "colab": {
      "provenance": [],
      "authorship_tag": "ABX9TyPET5/RUC4cQtQrPY5+AsF7",
      "include_colab_link": true
    },
    "kernelspec": {
      "display_name": "Python 3",
      "name": "python3"
    },
    "language_info": {
      "name": "python"
    }
  },
  "nbformat": 4,
  "nbformat_minor": 0
}